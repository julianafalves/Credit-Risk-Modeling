{
  "cells": [
    {
      "cell_type": "markdown",
      "metadata": {
        "id": "view-in-github",
        "colab_type": "text"
      },
      "source": [
        "<a href=\"https://colab.research.google.com/github/julianafalves/Credit-Risk-Modeling/blob/main/CreditRisk.ipynb\" target=\"_parent\"><img src=\"https://colab.research.google.com/assets/colab-badge.svg\" alt=\"Open In Colab\"/></a>"
      ]
    },
    {
      "cell_type": "markdown",
      "metadata": {
        "id": "0e65373e"
      },
      "source": [
        "# Data preparation"
      ],
      "id": "0e65373e"
    },
    {
      "cell_type": "markdown",
      "metadata": {
        "id": "0ce3b3c9"
      },
      "source": [
        "## Import Libraries"
      ],
      "id": "0ce3b3c9"
    },
    {
      "cell_type": "code",
      "execution_count": 4,
      "metadata": {
        "id": "5f1cb957"
      },
      "outputs": [],
      "source": [
        "import pandas as pd\n",
        "import numpy as np"
      ],
      "id": "5f1cb957"
    },
    {
      "cell_type": "code",
      "execution_count": 5,
      "metadata": {
        "colab": {
          "base_uri": "https://localhost:8080/"
        },
        "id": "k_os_APC0zrH",
        "outputId": "13f6421a-1dbe-4984-d5d1-73d4eeef8507"
      },
      "outputs": [
        {
          "output_type": "stream",
          "name": "stdout",
          "text": [
            "Mounted at /content/drive\n"
          ]
        }
      ],
      "source": [
        "from google.colab import drive\n",
        "drive.mount('/content/drive')"
      ],
      "id": "k_os_APC0zrH"
    },
    {
      "cell_type": "code",
      "execution_count": 6,
      "metadata": {
        "id": "6e26c51b",
        "colab": {
          "base_uri": "https://localhost:8080/"
        },
        "outputId": "204a1924-f6fe-41b6-d7bc-63058f0adc8a"
      },
      "outputs": [
        {
          "output_type": "stream",
          "name": "stderr",
          "text": [
            "<ipython-input-6-8cd1ca3792f4>:1: DtypeWarning: Columns (20) have mixed types. Specify dtype option on import or set low_memory=False.\n",
            "  loan_df = pd.read_csv('/content/drive/MyDrive/Credit Risk Score/loan_data_2007_2014.csv')\n"
          ]
        }
      ],
      "source": [
        "loan_df = pd.read_csv('/content/drive/MyDrive/Credit Risk Score/loan_data_2007_2014.csv')"
      ],
      "id": "6e26c51b"
    },
    {
      "cell_type": "code",
      "execution_count": 7,
      "metadata": {
        "id": "4891b97a",
        "colab": {
          "base_uri": "https://localhost:8080/",
          "height": 403
        },
        "outputId": "36c4574c-8503-4252-978a-71f581b9a435"
      },
      "outputs": [
        {
          "output_type": "execute_result",
          "data": {
            "text/plain": [
              "   Unnamed: 0       id  member_id  loan_amnt  funded_amnt  funded_amnt_inv  \\\n",
              "0           0  1077501    1296599       5000         5000           4975.0   \n",
              "1           1  1077430    1314167       2500         2500           2500.0   \n",
              "2           2  1077175    1313524       2400         2400           2400.0   \n",
              "3           3  1076863    1277178      10000        10000          10000.0   \n",
              "4           4  1075358    1311748       3000         3000           3000.0   \n",
              "\n",
              "         term  int_rate  installment grade  ... total_bal_il il_util  \\\n",
              "0   36 months     10.65       162.87     B  ...          NaN     NaN   \n",
              "1   60 months     15.27        59.83     C  ...          NaN     NaN   \n",
              "2   36 months     15.96        84.33     C  ...          NaN     NaN   \n",
              "3   36 months     13.49       339.31     C  ...          NaN     NaN   \n",
              "4   60 months     12.69        67.79     B  ...          NaN     NaN   \n",
              "\n",
              "  open_rv_12m open_rv_24m  max_bal_bc all_util total_rev_hi_lim inq_fi  \\\n",
              "0         NaN         NaN         NaN      NaN              NaN    NaN   \n",
              "1         NaN         NaN         NaN      NaN              NaN    NaN   \n",
              "2         NaN         NaN         NaN      NaN              NaN    NaN   \n",
              "3         NaN         NaN         NaN      NaN              NaN    NaN   \n",
              "4         NaN         NaN         NaN      NaN              NaN    NaN   \n",
              "\n",
              "  total_cu_tl inq_last_12m  \n",
              "0         NaN          NaN  \n",
              "1         NaN          NaN  \n",
              "2         NaN          NaN  \n",
              "3         NaN          NaN  \n",
              "4         NaN          NaN  \n",
              "\n",
              "[5 rows x 75 columns]"
            ],
            "text/html": [
              "\n",
              "  <div id=\"df-0acf3537-018a-467f-a13c-8619c8cde91c\">\n",
              "    <div class=\"colab-df-container\">\n",
              "      <div>\n",
              "<style scoped>\n",
              "    .dataframe tbody tr th:only-of-type {\n",
              "        vertical-align: middle;\n",
              "    }\n",
              "\n",
              "    .dataframe tbody tr th {\n",
              "        vertical-align: top;\n",
              "    }\n",
              "\n",
              "    .dataframe thead th {\n",
              "        text-align: right;\n",
              "    }\n",
              "</style>\n",
              "<table border=\"1\" class=\"dataframe\">\n",
              "  <thead>\n",
              "    <tr style=\"text-align: right;\">\n",
              "      <th></th>\n",
              "      <th>Unnamed: 0</th>\n",
              "      <th>id</th>\n",
              "      <th>member_id</th>\n",
              "      <th>loan_amnt</th>\n",
              "      <th>funded_amnt</th>\n",
              "      <th>funded_amnt_inv</th>\n",
              "      <th>term</th>\n",
              "      <th>int_rate</th>\n",
              "      <th>installment</th>\n",
              "      <th>grade</th>\n",
              "      <th>...</th>\n",
              "      <th>total_bal_il</th>\n",
              "      <th>il_util</th>\n",
              "      <th>open_rv_12m</th>\n",
              "      <th>open_rv_24m</th>\n",
              "      <th>max_bal_bc</th>\n",
              "      <th>all_util</th>\n",
              "      <th>total_rev_hi_lim</th>\n",
              "      <th>inq_fi</th>\n",
              "      <th>total_cu_tl</th>\n",
              "      <th>inq_last_12m</th>\n",
              "    </tr>\n",
              "  </thead>\n",
              "  <tbody>\n",
              "    <tr>\n",
              "      <th>0</th>\n",
              "      <td>0</td>\n",
              "      <td>1077501</td>\n",
              "      <td>1296599</td>\n",
              "      <td>5000</td>\n",
              "      <td>5000</td>\n",
              "      <td>4975.0</td>\n",
              "      <td>36 months</td>\n",
              "      <td>10.65</td>\n",
              "      <td>162.87</td>\n",
              "      <td>B</td>\n",
              "      <td>...</td>\n",
              "      <td>NaN</td>\n",
              "      <td>NaN</td>\n",
              "      <td>NaN</td>\n",
              "      <td>NaN</td>\n",
              "      <td>NaN</td>\n",
              "      <td>NaN</td>\n",
              "      <td>NaN</td>\n",
              "      <td>NaN</td>\n",
              "      <td>NaN</td>\n",
              "      <td>NaN</td>\n",
              "    </tr>\n",
              "    <tr>\n",
              "      <th>1</th>\n",
              "      <td>1</td>\n",
              "      <td>1077430</td>\n",
              "      <td>1314167</td>\n",
              "      <td>2500</td>\n",
              "      <td>2500</td>\n",
              "      <td>2500.0</td>\n",
              "      <td>60 months</td>\n",
              "      <td>15.27</td>\n",
              "      <td>59.83</td>\n",
              "      <td>C</td>\n",
              "      <td>...</td>\n",
              "      <td>NaN</td>\n",
              "      <td>NaN</td>\n",
              "      <td>NaN</td>\n",
              "      <td>NaN</td>\n",
              "      <td>NaN</td>\n",
              "      <td>NaN</td>\n",
              "      <td>NaN</td>\n",
              "      <td>NaN</td>\n",
              "      <td>NaN</td>\n",
              "      <td>NaN</td>\n",
              "    </tr>\n",
              "    <tr>\n",
              "      <th>2</th>\n",
              "      <td>2</td>\n",
              "      <td>1077175</td>\n",
              "      <td>1313524</td>\n",
              "      <td>2400</td>\n",
              "      <td>2400</td>\n",
              "      <td>2400.0</td>\n",
              "      <td>36 months</td>\n",
              "      <td>15.96</td>\n",
              "      <td>84.33</td>\n",
              "      <td>C</td>\n",
              "      <td>...</td>\n",
              "      <td>NaN</td>\n",
              "      <td>NaN</td>\n",
              "      <td>NaN</td>\n",
              "      <td>NaN</td>\n",
              "      <td>NaN</td>\n",
              "      <td>NaN</td>\n",
              "      <td>NaN</td>\n",
              "      <td>NaN</td>\n",
              "      <td>NaN</td>\n",
              "      <td>NaN</td>\n",
              "    </tr>\n",
              "    <tr>\n",
              "      <th>3</th>\n",
              "      <td>3</td>\n",
              "      <td>1076863</td>\n",
              "      <td>1277178</td>\n",
              "      <td>10000</td>\n",
              "      <td>10000</td>\n",
              "      <td>10000.0</td>\n",
              "      <td>36 months</td>\n",
              "      <td>13.49</td>\n",
              "      <td>339.31</td>\n",
              "      <td>C</td>\n",
              "      <td>...</td>\n",
              "      <td>NaN</td>\n",
              "      <td>NaN</td>\n",
              "      <td>NaN</td>\n",
              "      <td>NaN</td>\n",
              "      <td>NaN</td>\n",
              "      <td>NaN</td>\n",
              "      <td>NaN</td>\n",
              "      <td>NaN</td>\n",
              "      <td>NaN</td>\n",
              "      <td>NaN</td>\n",
              "    </tr>\n",
              "    <tr>\n",
              "      <th>4</th>\n",
              "      <td>4</td>\n",
              "      <td>1075358</td>\n",
              "      <td>1311748</td>\n",
              "      <td>3000</td>\n",
              "      <td>3000</td>\n",
              "      <td>3000.0</td>\n",
              "      <td>60 months</td>\n",
              "      <td>12.69</td>\n",
              "      <td>67.79</td>\n",
              "      <td>B</td>\n",
              "      <td>...</td>\n",
              "      <td>NaN</td>\n",
              "      <td>NaN</td>\n",
              "      <td>NaN</td>\n",
              "      <td>NaN</td>\n",
              "      <td>NaN</td>\n",
              "      <td>NaN</td>\n",
              "      <td>NaN</td>\n",
              "      <td>NaN</td>\n",
              "      <td>NaN</td>\n",
              "      <td>NaN</td>\n",
              "    </tr>\n",
              "  </tbody>\n",
              "</table>\n",
              "<p>5 rows × 75 columns</p>\n",
              "</div>\n",
              "      <button class=\"colab-df-convert\" onclick=\"convertToInteractive('df-0acf3537-018a-467f-a13c-8619c8cde91c')\"\n",
              "              title=\"Convert this dataframe to an interactive table.\"\n",
              "              style=\"display:none;\">\n",
              "        \n",
              "  <svg xmlns=\"http://www.w3.org/2000/svg\" height=\"24px\"viewBox=\"0 0 24 24\"\n",
              "       width=\"24px\">\n",
              "    <path d=\"M0 0h24v24H0V0z\" fill=\"none\"/>\n",
              "    <path d=\"M18.56 5.44l.94 2.06.94-2.06 2.06-.94-2.06-.94-.94-2.06-.94 2.06-2.06.94zm-11 1L8.5 8.5l.94-2.06 2.06-.94-2.06-.94L8.5 2.5l-.94 2.06-2.06.94zm10 10l.94 2.06.94-2.06 2.06-.94-2.06-.94-.94-2.06-.94 2.06-2.06.94z\"/><path d=\"M17.41 7.96l-1.37-1.37c-.4-.4-.92-.59-1.43-.59-.52 0-1.04.2-1.43.59L10.3 9.45l-7.72 7.72c-.78.78-.78 2.05 0 2.83L4 21.41c.39.39.9.59 1.41.59.51 0 1.02-.2 1.41-.59l7.78-7.78 2.81-2.81c.8-.78.8-2.07 0-2.86zM5.41 20L4 18.59l7.72-7.72 1.47 1.35L5.41 20z\"/>\n",
              "  </svg>\n",
              "      </button>\n",
              "      \n",
              "  <style>\n",
              "    .colab-df-container {\n",
              "      display:flex;\n",
              "      flex-wrap:wrap;\n",
              "      gap: 12px;\n",
              "    }\n",
              "\n",
              "    .colab-df-convert {\n",
              "      background-color: #E8F0FE;\n",
              "      border: none;\n",
              "      border-radius: 50%;\n",
              "      cursor: pointer;\n",
              "      display: none;\n",
              "      fill: #1967D2;\n",
              "      height: 32px;\n",
              "      padding: 0 0 0 0;\n",
              "      width: 32px;\n",
              "    }\n",
              "\n",
              "    .colab-df-convert:hover {\n",
              "      background-color: #E2EBFA;\n",
              "      box-shadow: 0px 1px 2px rgba(60, 64, 67, 0.3), 0px 1px 3px 1px rgba(60, 64, 67, 0.15);\n",
              "      fill: #174EA6;\n",
              "    }\n",
              "\n",
              "    [theme=dark] .colab-df-convert {\n",
              "      background-color: #3B4455;\n",
              "      fill: #D2E3FC;\n",
              "    }\n",
              "\n",
              "    [theme=dark] .colab-df-convert:hover {\n",
              "      background-color: #434B5C;\n",
              "      box-shadow: 0px 1px 3px 1px rgba(0, 0, 0, 0.15);\n",
              "      filter: drop-shadow(0px 1px 2px rgba(0, 0, 0, 0.3));\n",
              "      fill: #FFFFFF;\n",
              "    }\n",
              "  </style>\n",
              "\n",
              "      <script>\n",
              "        const buttonEl =\n",
              "          document.querySelector('#df-0acf3537-018a-467f-a13c-8619c8cde91c button.colab-df-convert');\n",
              "        buttonEl.style.display =\n",
              "          google.colab.kernel.accessAllowed ? 'block' : 'none';\n",
              "\n",
              "        async function convertToInteractive(key) {\n",
              "          const element = document.querySelector('#df-0acf3537-018a-467f-a13c-8619c8cde91c');\n",
              "          const dataTable =\n",
              "            await google.colab.kernel.invokeFunction('convertToInteractive',\n",
              "                                                     [key], {});\n",
              "          if (!dataTable) return;\n",
              "\n",
              "          const docLinkHtml = 'Like what you see? Visit the ' +\n",
              "            '<a target=\"_blank\" href=https://colab.research.google.com/notebooks/data_table.ipynb>data table notebook</a>'\n",
              "            + ' to learn more about interactive tables.';\n",
              "          element.innerHTML = '';\n",
              "          dataTable['output_type'] = 'display_data';\n",
              "          await google.colab.output.renderOutput(dataTable, element);\n",
              "          const docLink = document.createElement('div');\n",
              "          docLink.innerHTML = docLinkHtml;\n",
              "          element.appendChild(docLink);\n",
              "        }\n",
              "      </script>\n",
              "    </div>\n",
              "  </div>\n",
              "  "
            ]
          },
          "metadata": {},
          "execution_count": 7
        }
      ],
      "source": [
        "loan_df.head()"
      ],
      "id": "4891b97a"
    },
    {
      "cell_type": "code",
      "execution_count": 8,
      "metadata": {
        "id": "2264922e",
        "scrolled": true,
        "colab": {
          "base_uri": "https://localhost:8080/"
        },
        "outputId": "1b21c964-5883-461e-8927-1fced55cc654"
      },
      "outputs": [
        {
          "output_type": "stream",
          "name": "stdout",
          "text": [
            "<class 'pandas.core.frame.DataFrame'>\n",
            "RangeIndex: 466285 entries, 0 to 466284\n",
            "Data columns (total 75 columns):\n",
            " #   Column                       Non-Null Count   Dtype  \n",
            "---  ------                       --------------   -----  \n",
            " 0   Unnamed: 0                   466285 non-null  int64  \n",
            " 1   id                           466285 non-null  int64  \n",
            " 2   member_id                    466285 non-null  int64  \n",
            " 3   loan_amnt                    466285 non-null  int64  \n",
            " 4   funded_amnt                  466285 non-null  int64  \n",
            " 5   funded_amnt_inv              466285 non-null  float64\n",
            " 6   term                         466285 non-null  object \n",
            " 7   int_rate                     466285 non-null  float64\n",
            " 8   installment                  466285 non-null  float64\n",
            " 9   grade                        466285 non-null  object \n",
            " 10  sub_grade                    466285 non-null  object \n",
            " 11  emp_title                    438697 non-null  object \n",
            " 12  emp_length                   445277 non-null  object \n",
            " 13  home_ownership               466285 non-null  object \n",
            " 14  annual_inc                   466281 non-null  float64\n",
            " 15  verification_status          466285 non-null  object \n",
            " 16  issue_d                      466285 non-null  object \n",
            " 17  loan_status                  466285 non-null  object \n",
            " 18  pymnt_plan                   466285 non-null  object \n",
            " 19  url                          466285 non-null  object \n",
            " 20  desc                         125983 non-null  object \n",
            " 21  purpose                      466285 non-null  object \n",
            " 22  title                        466265 non-null  object \n",
            " 23  zip_code                     466285 non-null  object \n",
            " 24  addr_state                   466285 non-null  object \n",
            " 25  dti                          466285 non-null  float64\n",
            " 26  delinq_2yrs                  466256 non-null  float64\n",
            " 27  earliest_cr_line             466256 non-null  object \n",
            " 28  inq_last_6mths               466256 non-null  float64\n",
            " 29  mths_since_last_delinq       215934 non-null  float64\n",
            " 30  mths_since_last_record       62638 non-null   float64\n",
            " 31  open_acc                     466256 non-null  float64\n",
            " 32  pub_rec                      466256 non-null  float64\n",
            " 33  revol_bal                    466285 non-null  int64  \n",
            " 34  revol_util                   465945 non-null  float64\n",
            " 35  total_acc                    466256 non-null  float64\n",
            " 36  initial_list_status          466285 non-null  object \n",
            " 37  out_prncp                    466285 non-null  float64\n",
            " 38  out_prncp_inv                466285 non-null  float64\n",
            " 39  total_pymnt                  466285 non-null  float64\n",
            " 40  total_pymnt_inv              466285 non-null  float64\n",
            " 41  total_rec_prncp              466285 non-null  float64\n",
            " 42  total_rec_int                466285 non-null  float64\n",
            " 43  total_rec_late_fee           466285 non-null  float64\n",
            " 44  recoveries                   466285 non-null  float64\n",
            " 45  collection_recovery_fee      466285 non-null  float64\n",
            " 46  last_pymnt_d                 465909 non-null  object \n",
            " 47  last_pymnt_amnt              466285 non-null  float64\n",
            " 48  next_pymnt_d                 239071 non-null  object \n",
            " 49  last_credit_pull_d           466243 non-null  object \n",
            " 50  collections_12_mths_ex_med   466140 non-null  float64\n",
            " 51  mths_since_last_major_derog  98974 non-null   float64\n",
            " 52  policy_code                  466285 non-null  int64  \n",
            " 53  application_type             466285 non-null  object \n",
            " 54  annual_inc_joint             0 non-null       float64\n",
            " 55  dti_joint                    0 non-null       float64\n",
            " 56  verification_status_joint    0 non-null       float64\n",
            " 57  acc_now_delinq               466256 non-null  float64\n",
            " 58  tot_coll_amt                 396009 non-null  float64\n",
            " 59  tot_cur_bal                  396009 non-null  float64\n",
            " 60  open_acc_6m                  0 non-null       float64\n",
            " 61  open_il_6m                   0 non-null       float64\n",
            " 62  open_il_12m                  0 non-null       float64\n",
            " 63  open_il_24m                  0 non-null       float64\n",
            " 64  mths_since_rcnt_il           0 non-null       float64\n",
            " 65  total_bal_il                 0 non-null       float64\n",
            " 66  il_util                      0 non-null       float64\n",
            " 67  open_rv_12m                  0 non-null       float64\n",
            " 68  open_rv_24m                  0 non-null       float64\n",
            " 69  max_bal_bc                   0 non-null       float64\n",
            " 70  all_util                     0 non-null       float64\n",
            " 71  total_rev_hi_lim             396009 non-null  float64\n",
            " 72  inq_fi                       0 non-null       float64\n",
            " 73  total_cu_tl                  0 non-null       float64\n",
            " 74  inq_last_12m                 0 non-null       float64\n",
            "dtypes: float64(46), int64(7), object(22)\n",
            "memory usage: 266.8+ MB\n"
          ]
        }
      ],
      "source": [
        "loan_df.info()"
      ],
      "id": "2264922e"
    },
    {
      "cell_type": "markdown",
      "metadata": {
        "id": "83671045"
      },
      "source": [
        "## Preprocessing\n"
      ],
      "id": "83671045"
    },
    {
      "cell_type": "code",
      "execution_count": 9,
      "metadata": {
        "id": "33655f7a",
        "colab": {
          "base_uri": "https://localhost:8080/"
        },
        "outputId": "1d0af2f7-2c37-41ec-d9e8-dfc4f0228b9a"
      },
      "outputs": [
        {
          "output_type": "execute_result",
          "data": {
            "text/plain": [
              "array(['10+ years', '< 1 year', '1 year', '3 years', '8 years', '9 years',\n",
              "       '4 years', '5 years', '6 years', '2 years', '7 years', nan],\n",
              "      dtype=object)"
            ]
          },
          "metadata": {},
          "execution_count": 9
        }
      ],
      "source": [
        "loan_df['emp_length'].unique()"
      ],
      "id": "33655f7a"
    },
    {
      "cell_type": "code",
      "execution_count": 10,
      "metadata": {
        "id": "2d66786e",
        "colab": {
          "base_uri": "https://localhost:8080/"
        },
        "outputId": "3ee985f9-23a8-4ecf-ba81-5521ac94c7df"
      },
      "outputs": [
        {
          "output_type": "stream",
          "name": "stderr",
          "text": [
            "<ipython-input-10-101b512241d3>:3: FutureWarning: The default value of regex will change from True to False in a future version.\n",
            "  loan_df['emp_lenght_int'] = loan_df['emp_lenght_int'].str.replace('\\+','')\n"
          ]
        }
      ],
      "source": [
        "loan_df['emp_lenght_int'] = loan_df['emp_length'].str.replace('years', '')\n",
        "loan_df['emp_lenght_int'] = loan_df['emp_lenght_int'].str.replace('year', '')\n",
        "loan_df['emp_lenght_int'] = loan_df['emp_lenght_int'].str.replace('\\+','')\n",
        "loan_df['emp_lenght_int'] = loan_df['emp_lenght_int'].str.replace('< 1', str(0))\n",
        "loan_df['emp_lenght_int'] = loan_df['emp_lenght_int'].str.replace('n/a', str(0))\n"
      ],
      "id": "2d66786e"
    },
    {
      "cell_type": "code",
      "execution_count": 11,
      "metadata": {
        "colab": {
          "base_uri": "https://localhost:8080/"
        },
        "id": "R0XWTYhs5x3J",
        "outputId": "9965806b-9170-4225-cd9f-2830ed1e77cd"
      },
      "outputs": [
        {
          "output_type": "execute_result",
          "data": {
            "text/plain": [
              "0         10 \n",
              "1          0 \n",
              "2         10 \n",
              "3         10 \n",
              "4          1 \n",
              "         ... \n",
              "466280     4 \n",
              "466281    10 \n",
              "466282     7 \n",
              "466283     3 \n",
              "466284    10 \n",
              "Name: emp_lenght_int, Length: 466285, dtype: object"
            ]
          },
          "metadata": {},
          "execution_count": 11
        }
      ],
      "source": [
        "loan_df['emp_lenght_int']"
      ],
      "id": "R0XWTYhs5x3J"
    },
    {
      "cell_type": "code",
      "execution_count": 12,
      "metadata": {
        "id": "9f3309bb"
      },
      "outputs": [],
      "source": [
        "loan_df['emp_lenght_int'] = pd.to_numeric(loan_df['emp_lenght_int'])"
      ],
      "id": "9f3309bb"
    },
    {
      "cell_type": "markdown",
      "metadata": {
        "id": "uv4XymGN6A5P"
      },
      "source": [
        "Changing term"
      ],
      "id": "uv4XymGN6A5P"
    },
    {
      "cell_type": "code",
      "execution_count": 13,
      "metadata": {
        "colab": {
          "base_uri": "https://localhost:8080/"
        },
        "id": "tovsbG-s6E9K",
        "outputId": "fb1271ab-6b3e-461c-f05d-3daea31888b1"
      },
      "outputs": [
        {
          "output_type": "execute_result",
          "data": {
            "text/plain": [
              "0          36 months\n",
              "1          60 months\n",
              "2          36 months\n",
              "3          36 months\n",
              "4          60 months\n",
              "             ...    \n",
              "466280     60 months\n",
              "466281     60 months\n",
              "466282     60 months\n",
              "466283     36 months\n",
              "466284     36 months\n",
              "Name: term, Length: 466285, dtype: object"
            ]
          },
          "metadata": {},
          "execution_count": 13
        }
      ],
      "source": [
        "loan_df['term']"
      ],
      "id": "tovsbG-s6E9K"
    },
    {
      "cell_type": "code",
      "source": [
        "loan_df['term_int'] = loan_df['term'].str.replace('months','')\n",
        "loan_df['term_int'] = loan_df['term_int'].str.replace('months','')\n",
        "loan_df['term_int'] = pd.to_numeric(loan_df['term_int'])\n",
        "loan_df['term_int']"
      ],
      "metadata": {
        "colab": {
          "base_uri": "https://localhost:8080/"
        },
        "id": "UOHZlF0Hben3",
        "outputId": "344e98e7-62ea-4103-bd00-57b17aad63e0"
      },
      "id": "UOHZlF0Hben3",
      "execution_count": 14,
      "outputs": [
        {
          "output_type": "execute_result",
          "data": {
            "text/plain": [
              "0         36\n",
              "1         60\n",
              "2         36\n",
              "3         36\n",
              "4         60\n",
              "          ..\n",
              "466280    60\n",
              "466281    60\n",
              "466282    60\n",
              "466283    36\n",
              "466284    36\n",
              "Name: term_int, Length: 466285, dtype: int64"
            ]
          },
          "metadata": {},
          "execution_count": 14
        }
      ]
    },
    {
      "cell_type": "markdown",
      "metadata": {
        "id": "JP3TIl0D2i11"
      },
      "source": [
        "#### Changing the earliest_cr_line\n"
      ],
      "id": "JP3TIl0D2i11"
    },
    {
      "cell_type": "code",
      "execution_count": 15,
      "metadata": {
        "colab": {
          "base_uri": "https://localhost:8080/"
        },
        "id": "eaf6e1a3",
        "outputId": "ef4442f0-058a-4989-fc47-ddc97c258696",
        "scrolled": true
      },
      "outputs": [
        {
          "output_type": "execute_result",
          "data": {
            "text/plain": [
              "0         Jan-85\n",
              "1         Apr-99\n",
              "2         Nov-01\n",
              "3         Feb-96\n",
              "4         Jan-96\n",
              "           ...  \n",
              "466280    Apr-03\n",
              "466281    Jun-97\n",
              "466282    Dec-01\n",
              "466283    Feb-03\n",
              "466284    Feb-00\n",
              "Name: earliest_cr_line, Length: 466285, dtype: object"
            ]
          },
          "metadata": {},
          "execution_count": 15
        }
      ],
      "source": [
        "loan_df['earliest_cr_line']"
      ],
      "id": "eaf6e1a3"
    },
    {
      "cell_type": "code",
      "execution_count": 16,
      "metadata": {
        "id": "61447f3d"
      },
      "outputs": [],
      "source": [
        "loan_df['earliest_cr_line_date'] = pd.to_datetime(loan_df['earliest_cr_line'], format='%b-%y')"
      ],
      "id": "61447f3d"
    },
    {
      "cell_type": "code",
      "execution_count": 17,
      "metadata": {
        "colab": {
          "base_uri": "https://localhost:8080/"
        },
        "id": "VbSlIKml3Ml-",
        "outputId": "286e0c65-6ef9-4a2f-f7df-884b56c2185e"
      },
      "outputs": [
        {
          "output_type": "execute_result",
          "data": {
            "text/plain": [
              "0        1985-01-01\n",
              "1        1999-04-01\n",
              "2        2001-11-01\n",
              "3        1996-02-01\n",
              "4        1996-01-01\n",
              "            ...    \n",
              "466280   2003-04-01\n",
              "466281   1997-06-01\n",
              "466282   2001-12-01\n",
              "466283   2003-02-01\n",
              "466284   2000-02-01\n",
              "Name: earliest_cr_line_date, Length: 466285, dtype: datetime64[ns]"
            ]
          },
          "metadata": {},
          "execution_count": 17
        }
      ],
      "source": [
        "loan_df['earliest_cr_line_date']"
      ],
      "id": "VbSlIKml3Ml-"
    },
    {
      "cell_type": "code",
      "execution_count": 18,
      "metadata": {
        "colab": {
          "base_uri": "https://localhost:8080/"
        },
        "id": "cT2n34cA3XQ_",
        "outputId": "8f0149ff-f043-4611-afe8-00713e9a2d16"
      },
      "outputs": [
        {
          "output_type": "execute_result",
          "data": {
            "text/plain": [
              "count    466256.000000\n",
              "mean        239.482430\n",
              "std          93.974829\n",
              "min        -612.000000\n",
              "25%         183.000000\n",
              "50%         225.000000\n",
              "75%         285.000000\n",
              "max         587.000000\n",
              "Name: mths_since_earliest_cr_line, dtype: float64"
            ]
          },
          "metadata": {},
          "execution_count": 18
        }
      ],
      "source": [
        "loan_df['mths_since_earliest_cr_line']=round(pd.to_numeric((pd.to_datetime('2017-12-01') - loan_df['earliest_cr_line_date'])/np.timedelta64(1,'M')))\n",
        "loan_df['mths_since_earliest_cr_line'].describe()"
      ],
      "id": "cT2n34cA3XQ_"
    },
    {
      "cell_type": "markdown",
      "metadata": {
        "id": "WjrVjNXn7Gev"
      },
      "source": [
        "There is negative values in ['mths_since_earliest_cr_line'], I will analyze what is happening."
      ],
      "id": "WjrVjNXn7Gev"
    },
    {
      "cell_type": "code",
      "execution_count": 19,
      "metadata": {
        "colab": {
          "base_uri": "https://localhost:8080/",
          "height": 423
        },
        "id": "nnzWZtRk7Fxz",
        "outputId": "d8c3cc49-087e-4733-de72-340482005750"
      },
      "outputs": [
        {
          "output_type": "execute_result",
          "data": {
            "text/plain": [
              "       earliest_cr_line earliest_cr_line_date  mths_since_earliest_cr_line\n",
              "1580             Sep-62            2062-09-01                       -537.0\n",
              "1770             Sep-68            2068-09-01                       -609.0\n",
              "2799             Sep-64            2064-09-01                       -561.0\n",
              "3282             Sep-67            2067-09-01                       -597.0\n",
              "3359             Feb-65            2065-02-01                       -566.0\n",
              "...                 ...                   ...                          ...\n",
              "464003           Jan-68            2068-01-01                       -601.0\n",
              "464260           Jul-66            2066-07-01                       -583.0\n",
              "465100           Oct-67            2067-10-01                       -598.0\n",
              "465500           Sep-67            2067-09-01                       -597.0\n",
              "465655           Jan-56            2056-01-01                       -457.0\n",
              "\n",
              "[1169 rows x 3 columns]"
            ],
            "text/html": [
              "\n",
              "  <div id=\"df-bbee495b-4428-4c3d-b320-a3b606d6b321\">\n",
              "    <div class=\"colab-df-container\">\n",
              "      <div>\n",
              "<style scoped>\n",
              "    .dataframe tbody tr th:only-of-type {\n",
              "        vertical-align: middle;\n",
              "    }\n",
              "\n",
              "    .dataframe tbody tr th {\n",
              "        vertical-align: top;\n",
              "    }\n",
              "\n",
              "    .dataframe thead th {\n",
              "        text-align: right;\n",
              "    }\n",
              "</style>\n",
              "<table border=\"1\" class=\"dataframe\">\n",
              "  <thead>\n",
              "    <tr style=\"text-align: right;\">\n",
              "      <th></th>\n",
              "      <th>earliest_cr_line</th>\n",
              "      <th>earliest_cr_line_date</th>\n",
              "      <th>mths_since_earliest_cr_line</th>\n",
              "    </tr>\n",
              "  </thead>\n",
              "  <tbody>\n",
              "    <tr>\n",
              "      <th>1580</th>\n",
              "      <td>Sep-62</td>\n",
              "      <td>2062-09-01</td>\n",
              "      <td>-537.0</td>\n",
              "    </tr>\n",
              "    <tr>\n",
              "      <th>1770</th>\n",
              "      <td>Sep-68</td>\n",
              "      <td>2068-09-01</td>\n",
              "      <td>-609.0</td>\n",
              "    </tr>\n",
              "    <tr>\n",
              "      <th>2799</th>\n",
              "      <td>Sep-64</td>\n",
              "      <td>2064-09-01</td>\n",
              "      <td>-561.0</td>\n",
              "    </tr>\n",
              "    <tr>\n",
              "      <th>3282</th>\n",
              "      <td>Sep-67</td>\n",
              "      <td>2067-09-01</td>\n",
              "      <td>-597.0</td>\n",
              "    </tr>\n",
              "    <tr>\n",
              "      <th>3359</th>\n",
              "      <td>Feb-65</td>\n",
              "      <td>2065-02-01</td>\n",
              "      <td>-566.0</td>\n",
              "    </tr>\n",
              "    <tr>\n",
              "      <th>...</th>\n",
              "      <td>...</td>\n",
              "      <td>...</td>\n",
              "      <td>...</td>\n",
              "    </tr>\n",
              "    <tr>\n",
              "      <th>464003</th>\n",
              "      <td>Jan-68</td>\n",
              "      <td>2068-01-01</td>\n",
              "      <td>-601.0</td>\n",
              "    </tr>\n",
              "    <tr>\n",
              "      <th>464260</th>\n",
              "      <td>Jul-66</td>\n",
              "      <td>2066-07-01</td>\n",
              "      <td>-583.0</td>\n",
              "    </tr>\n",
              "    <tr>\n",
              "      <th>465100</th>\n",
              "      <td>Oct-67</td>\n",
              "      <td>2067-10-01</td>\n",
              "      <td>-598.0</td>\n",
              "    </tr>\n",
              "    <tr>\n",
              "      <th>465500</th>\n",
              "      <td>Sep-67</td>\n",
              "      <td>2067-09-01</td>\n",
              "      <td>-597.0</td>\n",
              "    </tr>\n",
              "    <tr>\n",
              "      <th>465655</th>\n",
              "      <td>Jan-56</td>\n",
              "      <td>2056-01-01</td>\n",
              "      <td>-457.0</td>\n",
              "    </tr>\n",
              "  </tbody>\n",
              "</table>\n",
              "<p>1169 rows × 3 columns</p>\n",
              "</div>\n",
              "      <button class=\"colab-df-convert\" onclick=\"convertToInteractive('df-bbee495b-4428-4c3d-b320-a3b606d6b321')\"\n",
              "              title=\"Convert this dataframe to an interactive table.\"\n",
              "              style=\"display:none;\">\n",
              "        \n",
              "  <svg xmlns=\"http://www.w3.org/2000/svg\" height=\"24px\"viewBox=\"0 0 24 24\"\n",
              "       width=\"24px\">\n",
              "    <path d=\"M0 0h24v24H0V0z\" fill=\"none\"/>\n",
              "    <path d=\"M18.56 5.44l.94 2.06.94-2.06 2.06-.94-2.06-.94-.94-2.06-.94 2.06-2.06.94zm-11 1L8.5 8.5l.94-2.06 2.06-.94-2.06-.94L8.5 2.5l-.94 2.06-2.06.94zm10 10l.94 2.06.94-2.06 2.06-.94-2.06-.94-.94-2.06-.94 2.06-2.06.94z\"/><path d=\"M17.41 7.96l-1.37-1.37c-.4-.4-.92-.59-1.43-.59-.52 0-1.04.2-1.43.59L10.3 9.45l-7.72 7.72c-.78.78-.78 2.05 0 2.83L4 21.41c.39.39.9.59 1.41.59.51 0 1.02-.2 1.41-.59l7.78-7.78 2.81-2.81c.8-.78.8-2.07 0-2.86zM5.41 20L4 18.59l7.72-7.72 1.47 1.35L5.41 20z\"/>\n",
              "  </svg>\n",
              "      </button>\n",
              "      \n",
              "  <style>\n",
              "    .colab-df-container {\n",
              "      display:flex;\n",
              "      flex-wrap:wrap;\n",
              "      gap: 12px;\n",
              "    }\n",
              "\n",
              "    .colab-df-convert {\n",
              "      background-color: #E8F0FE;\n",
              "      border: none;\n",
              "      border-radius: 50%;\n",
              "      cursor: pointer;\n",
              "      display: none;\n",
              "      fill: #1967D2;\n",
              "      height: 32px;\n",
              "      padding: 0 0 0 0;\n",
              "      width: 32px;\n",
              "    }\n",
              "\n",
              "    .colab-df-convert:hover {\n",
              "      background-color: #E2EBFA;\n",
              "      box-shadow: 0px 1px 2px rgba(60, 64, 67, 0.3), 0px 1px 3px 1px rgba(60, 64, 67, 0.15);\n",
              "      fill: #174EA6;\n",
              "    }\n",
              "\n",
              "    [theme=dark] .colab-df-convert {\n",
              "      background-color: #3B4455;\n",
              "      fill: #D2E3FC;\n",
              "    }\n",
              "\n",
              "    [theme=dark] .colab-df-convert:hover {\n",
              "      background-color: #434B5C;\n",
              "      box-shadow: 0px 1px 3px 1px rgba(0, 0, 0, 0.15);\n",
              "      filter: drop-shadow(0px 1px 2px rgba(0, 0, 0, 0.3));\n",
              "      fill: #FFFFFF;\n",
              "    }\n",
              "  </style>\n",
              "\n",
              "      <script>\n",
              "        const buttonEl =\n",
              "          document.querySelector('#df-bbee495b-4428-4c3d-b320-a3b606d6b321 button.colab-df-convert');\n",
              "        buttonEl.style.display =\n",
              "          google.colab.kernel.accessAllowed ? 'block' : 'none';\n",
              "\n",
              "        async function convertToInteractive(key) {\n",
              "          const element = document.querySelector('#df-bbee495b-4428-4c3d-b320-a3b606d6b321');\n",
              "          const dataTable =\n",
              "            await google.colab.kernel.invokeFunction('convertToInteractive',\n",
              "                                                     [key], {});\n",
              "          if (!dataTable) return;\n",
              "\n",
              "          const docLinkHtml = 'Like what you see? Visit the ' +\n",
              "            '<a target=\"_blank\" href=https://colab.research.google.com/notebooks/data_table.ipynb>data table notebook</a>'\n",
              "            + ' to learn more about interactive tables.';\n",
              "          element.innerHTML = '';\n",
              "          dataTable['output_type'] = 'display_data';\n",
              "          await google.colab.output.renderOutput(dataTable, element);\n",
              "          const docLink = document.createElement('div');\n",
              "          docLink.innerHTML = docLinkHtml;\n",
              "          element.appendChild(docLink);\n",
              "        }\n",
              "      </script>\n",
              "    </div>\n",
              "  </div>\n",
              "  "
            ]
          },
          "metadata": {},
          "execution_count": 19
        }
      ],
      "source": [
        "loan_df.loc[:,['earliest_cr_line','earliest_cr_line_date','mths_since_earliest_cr_line']][loan_df['mths_since_earliest_cr_line']<0]"
      ],
      "id": "nnzWZtRk7Fxz"
    },
    {
      "cell_type": "code",
      "execution_count": 20,
      "metadata": {
        "colab": {
          "base_uri": "https://localhost:8080/"
        },
        "id": "cTzZit4T74Tc",
        "outputId": "43b6cf3b-4c82-4a0d-fc56-9a78127fae72"
      },
      "outputs": [
        {
          "output_type": "stream",
          "name": "stderr",
          "text": [
            "<ipython-input-20-7ec976baae72>:1: SettingWithCopyWarning: \n",
            "A value is trying to be set on a copy of a slice from a DataFrame\n",
            "\n",
            "See the caveats in the documentation: https://pandas.pydata.org/pandas-docs/stable/user_guide/indexing.html#returning-a-view-versus-a-copy\n",
            "  loan_df['mths_since_earliest_cr_line'][loan_df['mths_since_earliest_cr_line']<0]=loan_df['mths_since_earliest_cr_line'].max()\n"
          ]
        }
      ],
      "source": [
        "loan_df['mths_since_earliest_cr_line'][loan_df['mths_since_earliest_cr_line']<0]=loan_df['mths_since_earliest_cr_line'].max()"
      ],
      "id": "cTzZit4T74Tc"
    },
    {
      "cell_type": "code",
      "execution_count": 21,
      "metadata": {
        "colab": {
          "base_uri": "https://localhost:8080/"
        },
        "id": "97Ut4S2h8Lrm",
        "outputId": "7cf9ea1d-b349-421b-da5e-a47b83022c87"
      },
      "outputs": [
        {
          "output_type": "execute_result",
          "data": {
            "text/plain": [
              "73.0"
            ]
          },
          "metadata": {},
          "execution_count": 21
        }
      ],
      "source": [
        "loan_df['mths_since_earliest_cr_line'].min()"
      ],
      "id": "97Ut4S2h8Lrm"
    },
    {
      "cell_type": "markdown",
      "metadata": {
        "id": "sCMz0ZLZ8aH-"
      },
      "source": [
        "####Issue date variable"
      ],
      "id": "sCMz0ZLZ8aH-"
    },
    {
      "cell_type": "code",
      "execution_count": 22,
      "metadata": {
        "colab": {
          "base_uri": "https://localhost:8080/"
        },
        "id": "sAkU5QV48dbi",
        "outputId": "77fb6637-e0ca-43dd-c9fe-1631a256edf2"
      },
      "outputs": [
        {
          "output_type": "execute_result",
          "data": {
            "text/plain": [
              "0         72.0\n",
              "1         72.0\n",
              "2         72.0\n",
              "3         72.0\n",
              "4         72.0\n",
              "          ... \n",
              "466280    47.0\n",
              "466281    47.0\n",
              "466282    47.0\n",
              "466283    47.0\n",
              "466284    47.0\n",
              "Name: mths_since_last_issue_d, Length: 466285, dtype: float64"
            ]
          },
          "metadata": {},
          "execution_count": 22
        }
      ],
      "source": [
        "loan_df['mths_since_last_issue_d'] = pd.to_datetime(loan_df['issue_d'],format = '%b-%y')\n",
        "loan_df['mths_since_last_issue_d'] = round((pd.to_datetime('2017-12-01') - loan_df['mths_since_last_issue_d'])/np.timedelta64(1,'M'))\n",
        "loan_df['mths_since_last_issue_d']"
      ],
      "id": "sAkU5QV48dbi"
    },
    {
      "cell_type": "code",
      "source": [
        "loan_df['mths_since_last_issue_d'].describe()"
      ],
      "metadata": {
        "colab": {
          "base_uri": "https://localhost:8080/"
        },
        "id": "r6f2xYNJhrOZ",
        "outputId": "4100e8eb-8603-49ce-c5df-2cd47698f60f"
      },
      "id": "r6f2xYNJhrOZ",
      "execution_count": 23,
      "outputs": [
        {
          "output_type": "execute_result",
          "data": {
            "text/plain": [
              "count    466285.000000\n",
              "mean         51.255187\n",
              "std          14.340154\n",
              "min          36.000000\n",
              "25%          41.000000\n",
              "50%          47.000000\n",
              "75%          57.000000\n",
              "max         126.000000\n",
              "Name: mths_since_last_issue_d, dtype: float64"
            ]
          },
          "metadata": {},
          "execution_count": 23
        }
      ]
    },
    {
      "cell_type": "markdown",
      "metadata": {
        "id": "yGhEcLOf8aMs"
      },
      "source": [
        "###Preprocessing discrete variables "
      ],
      "id": "yGhEcLOf8aMs"
    },
    {
      "cell_type": "code",
      "execution_count": 24,
      "metadata": {
        "id": "MIsHifp487D2",
        "colab": {
          "base_uri": "https://localhost:8080/",
          "height": 423
        },
        "outputId": "a10f811f-ccf1-41aa-ed92-3a823fa6e771"
      },
      "outputs": [
        {
          "output_type": "execute_result",
          "data": {
            "text/plain": [
              "        grade: A  grade: B  grade: C  grade: D  grade: E  grade: F  grade: G\n",
              "0              0         1         0         0         0         0         0\n",
              "1              0         0         1         0         0         0         0\n",
              "2              0         0         1         0         0         0         0\n",
              "3              0         0         1         0         0         0         0\n",
              "4              0         1         0         0         0         0         0\n",
              "...          ...       ...       ...       ...       ...       ...       ...\n",
              "466280         0         0         1         0         0         0         0\n",
              "466281         0         0         0         1         0         0         0\n",
              "466282         0         0         0         1         0         0         0\n",
              "466283         1         0         0         0         0         0         0\n",
              "466284         0         0         0         1         0         0         0\n",
              "\n",
              "[466285 rows x 7 columns]"
            ],
            "text/html": [
              "\n",
              "  <div id=\"df-1f1cd523-4284-45b1-9dff-06e9477bd774\">\n",
              "    <div class=\"colab-df-container\">\n",
              "      <div>\n",
              "<style scoped>\n",
              "    .dataframe tbody tr th:only-of-type {\n",
              "        vertical-align: middle;\n",
              "    }\n",
              "\n",
              "    .dataframe tbody tr th {\n",
              "        vertical-align: top;\n",
              "    }\n",
              "\n",
              "    .dataframe thead th {\n",
              "        text-align: right;\n",
              "    }\n",
              "</style>\n",
              "<table border=\"1\" class=\"dataframe\">\n",
              "  <thead>\n",
              "    <tr style=\"text-align: right;\">\n",
              "      <th></th>\n",
              "      <th>grade: A</th>\n",
              "      <th>grade: B</th>\n",
              "      <th>grade: C</th>\n",
              "      <th>grade: D</th>\n",
              "      <th>grade: E</th>\n",
              "      <th>grade: F</th>\n",
              "      <th>grade: G</th>\n",
              "    </tr>\n",
              "  </thead>\n",
              "  <tbody>\n",
              "    <tr>\n",
              "      <th>0</th>\n",
              "      <td>0</td>\n",
              "      <td>1</td>\n",
              "      <td>0</td>\n",
              "      <td>0</td>\n",
              "      <td>0</td>\n",
              "      <td>0</td>\n",
              "      <td>0</td>\n",
              "    </tr>\n",
              "    <tr>\n",
              "      <th>1</th>\n",
              "      <td>0</td>\n",
              "      <td>0</td>\n",
              "      <td>1</td>\n",
              "      <td>0</td>\n",
              "      <td>0</td>\n",
              "      <td>0</td>\n",
              "      <td>0</td>\n",
              "    </tr>\n",
              "    <tr>\n",
              "      <th>2</th>\n",
              "      <td>0</td>\n",
              "      <td>0</td>\n",
              "      <td>1</td>\n",
              "      <td>0</td>\n",
              "      <td>0</td>\n",
              "      <td>0</td>\n",
              "      <td>0</td>\n",
              "    </tr>\n",
              "    <tr>\n",
              "      <th>3</th>\n",
              "      <td>0</td>\n",
              "      <td>0</td>\n",
              "      <td>1</td>\n",
              "      <td>0</td>\n",
              "      <td>0</td>\n",
              "      <td>0</td>\n",
              "      <td>0</td>\n",
              "    </tr>\n",
              "    <tr>\n",
              "      <th>4</th>\n",
              "      <td>0</td>\n",
              "      <td>1</td>\n",
              "      <td>0</td>\n",
              "      <td>0</td>\n",
              "      <td>0</td>\n",
              "      <td>0</td>\n",
              "      <td>0</td>\n",
              "    </tr>\n",
              "    <tr>\n",
              "      <th>...</th>\n",
              "      <td>...</td>\n",
              "      <td>...</td>\n",
              "      <td>...</td>\n",
              "      <td>...</td>\n",
              "      <td>...</td>\n",
              "      <td>...</td>\n",
              "      <td>...</td>\n",
              "    </tr>\n",
              "    <tr>\n",
              "      <th>466280</th>\n",
              "      <td>0</td>\n",
              "      <td>0</td>\n",
              "      <td>1</td>\n",
              "      <td>0</td>\n",
              "      <td>0</td>\n",
              "      <td>0</td>\n",
              "      <td>0</td>\n",
              "    </tr>\n",
              "    <tr>\n",
              "      <th>466281</th>\n",
              "      <td>0</td>\n",
              "      <td>0</td>\n",
              "      <td>0</td>\n",
              "      <td>1</td>\n",
              "      <td>0</td>\n",
              "      <td>0</td>\n",
              "      <td>0</td>\n",
              "    </tr>\n",
              "    <tr>\n",
              "      <th>466282</th>\n",
              "      <td>0</td>\n",
              "      <td>0</td>\n",
              "      <td>0</td>\n",
              "      <td>1</td>\n",
              "      <td>0</td>\n",
              "      <td>0</td>\n",
              "      <td>0</td>\n",
              "    </tr>\n",
              "    <tr>\n",
              "      <th>466283</th>\n",
              "      <td>1</td>\n",
              "      <td>0</td>\n",
              "      <td>0</td>\n",
              "      <td>0</td>\n",
              "      <td>0</td>\n",
              "      <td>0</td>\n",
              "      <td>0</td>\n",
              "    </tr>\n",
              "    <tr>\n",
              "      <th>466284</th>\n",
              "      <td>0</td>\n",
              "      <td>0</td>\n",
              "      <td>0</td>\n",
              "      <td>1</td>\n",
              "      <td>0</td>\n",
              "      <td>0</td>\n",
              "      <td>0</td>\n",
              "    </tr>\n",
              "  </tbody>\n",
              "</table>\n",
              "<p>466285 rows × 7 columns</p>\n",
              "</div>\n",
              "      <button class=\"colab-df-convert\" onclick=\"convertToInteractive('df-1f1cd523-4284-45b1-9dff-06e9477bd774')\"\n",
              "              title=\"Convert this dataframe to an interactive table.\"\n",
              "              style=\"display:none;\">\n",
              "        \n",
              "  <svg xmlns=\"http://www.w3.org/2000/svg\" height=\"24px\"viewBox=\"0 0 24 24\"\n",
              "       width=\"24px\">\n",
              "    <path d=\"M0 0h24v24H0V0z\" fill=\"none\"/>\n",
              "    <path d=\"M18.56 5.44l.94 2.06.94-2.06 2.06-.94-2.06-.94-.94-2.06-.94 2.06-2.06.94zm-11 1L8.5 8.5l.94-2.06 2.06-.94-2.06-.94L8.5 2.5l-.94 2.06-2.06.94zm10 10l.94 2.06.94-2.06 2.06-.94-2.06-.94-.94-2.06-.94 2.06-2.06.94z\"/><path d=\"M17.41 7.96l-1.37-1.37c-.4-.4-.92-.59-1.43-.59-.52 0-1.04.2-1.43.59L10.3 9.45l-7.72 7.72c-.78.78-.78 2.05 0 2.83L4 21.41c.39.39.9.59 1.41.59.51 0 1.02-.2 1.41-.59l7.78-7.78 2.81-2.81c.8-.78.8-2.07 0-2.86zM5.41 20L4 18.59l7.72-7.72 1.47 1.35L5.41 20z\"/>\n",
              "  </svg>\n",
              "      </button>\n",
              "      \n",
              "  <style>\n",
              "    .colab-df-container {\n",
              "      display:flex;\n",
              "      flex-wrap:wrap;\n",
              "      gap: 12px;\n",
              "    }\n",
              "\n",
              "    .colab-df-convert {\n",
              "      background-color: #E8F0FE;\n",
              "      border: none;\n",
              "      border-radius: 50%;\n",
              "      cursor: pointer;\n",
              "      display: none;\n",
              "      fill: #1967D2;\n",
              "      height: 32px;\n",
              "      padding: 0 0 0 0;\n",
              "      width: 32px;\n",
              "    }\n",
              "\n",
              "    .colab-df-convert:hover {\n",
              "      background-color: #E2EBFA;\n",
              "      box-shadow: 0px 1px 2px rgba(60, 64, 67, 0.3), 0px 1px 3px 1px rgba(60, 64, 67, 0.15);\n",
              "      fill: #174EA6;\n",
              "    }\n",
              "\n",
              "    [theme=dark] .colab-df-convert {\n",
              "      background-color: #3B4455;\n",
              "      fill: #D2E3FC;\n",
              "    }\n",
              "\n",
              "    [theme=dark] .colab-df-convert:hover {\n",
              "      background-color: #434B5C;\n",
              "      box-shadow: 0px 1px 3px 1px rgba(0, 0, 0, 0.15);\n",
              "      filter: drop-shadow(0px 1px 2px rgba(0, 0, 0, 0.3));\n",
              "      fill: #FFFFFF;\n",
              "    }\n",
              "  </style>\n",
              "\n",
              "      <script>\n",
              "        const buttonEl =\n",
              "          document.querySelector('#df-1f1cd523-4284-45b1-9dff-06e9477bd774 button.colab-df-convert');\n",
              "        buttonEl.style.display =\n",
              "          google.colab.kernel.accessAllowed ? 'block' : 'none';\n",
              "\n",
              "        async function convertToInteractive(key) {\n",
              "          const element = document.querySelector('#df-1f1cd523-4284-45b1-9dff-06e9477bd774');\n",
              "          const dataTable =\n",
              "            await google.colab.kernel.invokeFunction('convertToInteractive',\n",
              "                                                     [key], {});\n",
              "          if (!dataTable) return;\n",
              "\n",
              "          const docLinkHtml = 'Like what you see? Visit the ' +\n",
              "            '<a target=\"_blank\" href=https://colab.research.google.com/notebooks/data_table.ipynb>data table notebook</a>'\n",
              "            + ' to learn more about interactive tables.';\n",
              "          element.innerHTML = '';\n",
              "          dataTable['output_type'] = 'display_data';\n",
              "          await google.colab.output.renderOutput(dataTable, element);\n",
              "          const docLink = document.createElement('div');\n",
              "          docLink.innerHTML = docLinkHtml;\n",
              "          element.appendChild(docLink);\n",
              "        }\n",
              "      </script>\n",
              "    </div>\n",
              "  </div>\n",
              "  "
            ]
          },
          "metadata": {},
          "execution_count": 24
        }
      ],
      "source": [
        "pd.get_dummies(loan_df['grade'],prefix = 'grade', prefix_sep=': ')"
      ],
      "id": "MIsHifp487D2"
    },
    {
      "cell_type": "code",
      "execution_count": 25,
      "metadata": {
        "id": "dPb7ZcUu86kK"
      },
      "outputs": [],
      "source": [
        "loan_df_dummies = [ pd.get_dummies(loan_df['grade'],prefix='grade',prefix_sep=': '),\n",
        "                    pd.get_dummies(loan_df['sub_grade'], prefix = 'sub_grade', prefix_sep=': '),\n",
        "                    pd.get_dummies(loan_df['home_ownership'], prefix = 'home_ownership', prefix_sep = ': '),\n",
        "                    pd.get_dummies(loan_df['verification_status'], prefix = 'verification_status', prefix_sep = ': '),\n",
        "                    pd.get_dummies(loan_df['loan_status'], prefix = 'loan_status', prefix_sep = ': '),\n",
        "                    pd.get_dummies(loan_df['purpose'], prefix= 'purpose', prefix_sep=': '),\n",
        "                    pd.get_dummies(loan_df['addr_state'], prefix= 'addr_state', prefix_sep = ': '),\n",
        "                    pd.get_dummies(loan_df['initial_list_status'], prefix = 'initial_list_status', prefix_sep = ': ')]"
      ],
      "id": "dPb7ZcUu86kK"
    },
    {
      "cell_type": "code",
      "execution_count": 26,
      "metadata": {
        "id": "TBKUy1YKA8IS"
      },
      "outputs": [],
      "source": [
        "loan_df_dummies = pd.concat(loan_df_dummies, axis = 1)"
      ],
      "id": "TBKUy1YKA8IS"
    },
    {
      "cell_type": "code",
      "execution_count": 27,
      "metadata": {
        "id": "lmQzEcTiBHOt",
        "colab": {
          "base_uri": "https://localhost:8080/"
        },
        "outputId": "df2a2ce5-0eb9-41bb-8930-45097ff1d133"
      },
      "outputs": [
        {
          "output_type": "execute_result",
          "data": {
            "text/plain": [
              "pandas.core.frame.DataFrame"
            ]
          },
          "metadata": {},
          "execution_count": 27
        }
      ],
      "source": [
        "type(loan_df_dummies)"
      ],
      "id": "lmQzEcTiBHOt"
    },
    {
      "cell_type": "code",
      "execution_count": 28,
      "metadata": {
        "id": "N9GuoiEpBKt5"
      },
      "outputs": [],
      "source": [
        "loan_df = pd.concat([loan_df,loan_df_dummies], axis=1)"
      ],
      "id": "N9GuoiEpBKt5"
    },
    {
      "cell_type": "code",
      "execution_count": 29,
      "metadata": {
        "id": "wVK1QBbVBY4W",
        "colab": {
          "base_uri": "https://localhost:8080/"
        },
        "outputId": "edc46a34-3603-4583-ccf6-9ccbde51f655"
      },
      "outputs": [
        {
          "output_type": "execute_result",
          "data": {
            "text/plain": [
              "array(['Unnamed: 0', 'id', 'member_id', 'loan_amnt', 'funded_amnt',\n",
              "       'funded_amnt_inv', 'term', 'int_rate', 'installment', 'grade',\n",
              "       'sub_grade', 'emp_title', 'emp_length', 'home_ownership',\n",
              "       'annual_inc', 'verification_status', 'issue_d', 'loan_status',\n",
              "       'pymnt_plan', 'url', 'desc', 'purpose', 'title', 'zip_code',\n",
              "       'addr_state', 'dti', 'delinq_2yrs', 'earliest_cr_line',\n",
              "       'inq_last_6mths', 'mths_since_last_delinq',\n",
              "       'mths_since_last_record', 'open_acc', 'pub_rec', 'revol_bal',\n",
              "       'revol_util', 'total_acc', 'initial_list_status', 'out_prncp',\n",
              "       'out_prncp_inv', 'total_pymnt', 'total_pymnt_inv',\n",
              "       'total_rec_prncp', 'total_rec_int', 'total_rec_late_fee',\n",
              "       'recoveries', 'collection_recovery_fee', 'last_pymnt_d',\n",
              "       'last_pymnt_amnt', 'next_pymnt_d', 'last_credit_pull_d',\n",
              "       'collections_12_mths_ex_med', 'mths_since_last_major_derog',\n",
              "       'policy_code', 'application_type', 'annual_inc_joint', 'dti_joint',\n",
              "       'verification_status_joint', 'acc_now_delinq', 'tot_coll_amt',\n",
              "       'tot_cur_bal', 'open_acc_6m', 'open_il_6m', 'open_il_12m',\n",
              "       'open_il_24m', 'mths_since_rcnt_il', 'total_bal_il', 'il_util',\n",
              "       'open_rv_12m', 'open_rv_24m', 'max_bal_bc', 'all_util',\n",
              "       'total_rev_hi_lim', 'inq_fi', 'total_cu_tl', 'inq_last_12m',\n",
              "       'emp_lenght_int', 'term_int', 'earliest_cr_line_date',\n",
              "       'mths_since_earliest_cr_line', 'mths_since_last_issue_d',\n",
              "       'grade: A', 'grade: B', 'grade: C', 'grade: D', 'grade: E',\n",
              "       'grade: F', 'grade: G', 'sub_grade: A1', 'sub_grade: A2',\n",
              "       'sub_grade: A3', 'sub_grade: A4', 'sub_grade: A5', 'sub_grade: B1',\n",
              "       'sub_grade: B2', 'sub_grade: B3', 'sub_grade: B4', 'sub_grade: B5',\n",
              "       'sub_grade: C1', 'sub_grade: C2', 'sub_grade: C3', 'sub_grade: C4',\n",
              "       'sub_grade: C5', 'sub_grade: D1', 'sub_grade: D2', 'sub_grade: D3',\n",
              "       'sub_grade: D4', 'sub_grade: D5', 'sub_grade: E1', 'sub_grade: E2',\n",
              "       'sub_grade: E3', 'sub_grade: E4', 'sub_grade: E5', 'sub_grade: F1',\n",
              "       'sub_grade: F2', 'sub_grade: F3', 'sub_grade: F4', 'sub_grade: F5',\n",
              "       'sub_grade: G1', 'sub_grade: G2', 'sub_grade: G3', 'sub_grade: G4',\n",
              "       'sub_grade: G5', 'home_ownership: ANY', 'home_ownership: MORTGAGE',\n",
              "       'home_ownership: NONE', 'home_ownership: OTHER',\n",
              "       'home_ownership: OWN', 'home_ownership: RENT',\n",
              "       'verification_status: Not Verified',\n",
              "       'verification_status: Source Verified',\n",
              "       'verification_status: Verified', 'loan_status: Charged Off',\n",
              "       'loan_status: Current', 'loan_status: Default',\n",
              "       'loan_status: Does not meet the credit policy. Status:Charged Off',\n",
              "       'loan_status: Does not meet the credit policy. Status:Fully Paid',\n",
              "       'loan_status: Fully Paid', 'loan_status: In Grace Period',\n",
              "       'loan_status: Late (16-30 days)',\n",
              "       'loan_status: Late (31-120 days)', 'purpose: car',\n",
              "       'purpose: credit_card', 'purpose: debt_consolidation',\n",
              "       'purpose: educational', 'purpose: home_improvement',\n",
              "       'purpose: house', 'purpose: major_purchase', 'purpose: medical',\n",
              "       'purpose: moving', 'purpose: other', 'purpose: renewable_energy',\n",
              "       'purpose: small_business', 'purpose: vacation', 'purpose: wedding',\n",
              "       'addr_state: AK', 'addr_state: AL', 'addr_state: AR',\n",
              "       'addr_state: AZ', 'addr_state: CA', 'addr_state: CO',\n",
              "       'addr_state: CT', 'addr_state: DC', 'addr_state: DE',\n",
              "       'addr_state: FL', 'addr_state: GA', 'addr_state: HI',\n",
              "       'addr_state: IA', 'addr_state: ID', 'addr_state: IL',\n",
              "       'addr_state: IN', 'addr_state: KS', 'addr_state: KY',\n",
              "       'addr_state: LA', 'addr_state: MA', 'addr_state: MD',\n",
              "       'addr_state: ME', 'addr_state: MI', 'addr_state: MN',\n",
              "       'addr_state: MO', 'addr_state: MS', 'addr_state: MT',\n",
              "       'addr_state: NC', 'addr_state: NE', 'addr_state: NH',\n",
              "       'addr_state: NJ', 'addr_state: NM', 'addr_state: NV',\n",
              "       'addr_state: NY', 'addr_state: OH', 'addr_state: OK',\n",
              "       'addr_state: OR', 'addr_state: PA', 'addr_state: RI',\n",
              "       'addr_state: SC', 'addr_state: SD', 'addr_state: TN',\n",
              "       'addr_state: TX', 'addr_state: UT', 'addr_state: VA',\n",
              "       'addr_state: VT', 'addr_state: WA', 'addr_state: WI',\n",
              "       'addr_state: WV', 'addr_state: WY', 'initial_list_status: f',\n",
              "       'initial_list_status: w'], dtype=object)"
            ]
          },
          "metadata": {},
          "execution_count": 29
        }
      ],
      "source": [
        "loan_df.columns.values"
      ],
      "id": "wVK1QBbVBY4W"
    },
    {
      "cell_type": "markdown",
      "metadata": {
        "id": "EWzbTIsPvI5M"
      },
      "source": [
        "###Check and handle missing data"
      ],
      "id": "EWzbTIsPvI5M"
    },
    {
      "cell_type": "code",
      "execution_count": 30,
      "metadata": {
        "id": "vV7mY9TLvZMa",
        "colab": {
          "base_uri": "https://localhost:8080/",
          "height": 0
        },
        "outputId": "c6314506-a1c3-4b92-dd08-a74425569388"
      },
      "outputs": [
        {
          "output_type": "execute_result",
          "data": {
            "text/plain": [
              "        Unnamed: 0     id  member_id  loan_amnt  funded_amnt  funded_amnt_inv  \\\n",
              "0            False  False      False      False        False            False   \n",
              "1            False  False      False      False        False            False   \n",
              "2            False  False      False      False        False            False   \n",
              "3            False  False      False      False        False            False   \n",
              "4            False  False      False      False        False            False   \n",
              "...            ...    ...        ...        ...          ...              ...   \n",
              "466280       False  False      False      False        False            False   \n",
              "466281       False  False      False      False        False            False   \n",
              "466282       False  False      False      False        False            False   \n",
              "466283       False  False      False      False        False            False   \n",
              "466284       False  False      False      False        False            False   \n",
              "\n",
              "         term  int_rate  installment  grade  ...  addr_state: TX  \\\n",
              "0       False     False        False  False  ...           False   \n",
              "1       False     False        False  False  ...           False   \n",
              "2       False     False        False  False  ...           False   \n",
              "3       False     False        False  False  ...           False   \n",
              "4       False     False        False  False  ...           False   \n",
              "...       ...       ...          ...    ...  ...             ...   \n",
              "466280  False     False        False  False  ...           False   \n",
              "466281  False     False        False  False  ...           False   \n",
              "466282  False     False        False  False  ...           False   \n",
              "466283  False     False        False  False  ...           False   \n",
              "466284  False     False        False  False  ...           False   \n",
              "\n",
              "        addr_state: UT  addr_state: VA  addr_state: VT  addr_state: WA  \\\n",
              "0                False           False           False           False   \n",
              "1                False           False           False           False   \n",
              "2                False           False           False           False   \n",
              "3                False           False           False           False   \n",
              "4                False           False           False           False   \n",
              "...                ...             ...             ...             ...   \n",
              "466280           False           False           False           False   \n",
              "466281           False           False           False           False   \n",
              "466282           False           False           False           False   \n",
              "466283           False           False           False           False   \n",
              "466284           False           False           False           False   \n",
              "\n",
              "        addr_state: WI  addr_state: WV  addr_state: WY  \\\n",
              "0                False           False           False   \n",
              "1                False           False           False   \n",
              "2                False           False           False   \n",
              "3                False           False           False   \n",
              "4                False           False           False   \n",
              "...                ...             ...             ...   \n",
              "466280           False           False           False   \n",
              "466281           False           False           False   \n",
              "466282           False           False           False   \n",
              "466283           False           False           False   \n",
              "466284           False           False           False   \n",
              "\n",
              "        initial_list_status: f  initial_list_status: w  \n",
              "0                        False                   False  \n",
              "1                        False                   False  \n",
              "2                        False                   False  \n",
              "3                        False                   False  \n",
              "4                        False                   False  \n",
              "...                        ...                     ...  \n",
              "466280                   False                   False  \n",
              "466281                   False                   False  \n",
              "466282                   False                   False  \n",
              "466283                   False                   False  \n",
              "466284                   False                   False  \n",
              "\n",
              "[466285 rows x 206 columns]"
            ],
            "text/html": [
              "\n",
              "  <div id=\"df-9a4bdd5c-a2b5-42cf-9194-f4edcd181e1a\">\n",
              "    <div class=\"colab-df-container\">\n",
              "      <div>\n",
              "<style scoped>\n",
              "    .dataframe tbody tr th:only-of-type {\n",
              "        vertical-align: middle;\n",
              "    }\n",
              "\n",
              "    .dataframe tbody tr th {\n",
              "        vertical-align: top;\n",
              "    }\n",
              "\n",
              "    .dataframe thead th {\n",
              "        text-align: right;\n",
              "    }\n",
              "</style>\n",
              "<table border=\"1\" class=\"dataframe\">\n",
              "  <thead>\n",
              "    <tr style=\"text-align: right;\">\n",
              "      <th></th>\n",
              "      <th>Unnamed: 0</th>\n",
              "      <th>id</th>\n",
              "      <th>member_id</th>\n",
              "      <th>loan_amnt</th>\n",
              "      <th>funded_amnt</th>\n",
              "      <th>funded_amnt_inv</th>\n",
              "      <th>term</th>\n",
              "      <th>int_rate</th>\n",
              "      <th>installment</th>\n",
              "      <th>grade</th>\n",
              "      <th>...</th>\n",
              "      <th>addr_state: TX</th>\n",
              "      <th>addr_state: UT</th>\n",
              "      <th>addr_state: VA</th>\n",
              "      <th>addr_state: VT</th>\n",
              "      <th>addr_state: WA</th>\n",
              "      <th>addr_state: WI</th>\n",
              "      <th>addr_state: WV</th>\n",
              "      <th>addr_state: WY</th>\n",
              "      <th>initial_list_status: f</th>\n",
              "      <th>initial_list_status: w</th>\n",
              "    </tr>\n",
              "  </thead>\n",
              "  <tbody>\n",
              "    <tr>\n",
              "      <th>0</th>\n",
              "      <td>False</td>\n",
              "      <td>False</td>\n",
              "      <td>False</td>\n",
              "      <td>False</td>\n",
              "      <td>False</td>\n",
              "      <td>False</td>\n",
              "      <td>False</td>\n",
              "      <td>False</td>\n",
              "      <td>False</td>\n",
              "      <td>False</td>\n",
              "      <td>...</td>\n",
              "      <td>False</td>\n",
              "      <td>False</td>\n",
              "      <td>False</td>\n",
              "      <td>False</td>\n",
              "      <td>False</td>\n",
              "      <td>False</td>\n",
              "      <td>False</td>\n",
              "      <td>False</td>\n",
              "      <td>False</td>\n",
              "      <td>False</td>\n",
              "    </tr>\n",
              "    <tr>\n",
              "      <th>1</th>\n",
              "      <td>False</td>\n",
              "      <td>False</td>\n",
              "      <td>False</td>\n",
              "      <td>False</td>\n",
              "      <td>False</td>\n",
              "      <td>False</td>\n",
              "      <td>False</td>\n",
              "      <td>False</td>\n",
              "      <td>False</td>\n",
              "      <td>False</td>\n",
              "      <td>...</td>\n",
              "      <td>False</td>\n",
              "      <td>False</td>\n",
              "      <td>False</td>\n",
              "      <td>False</td>\n",
              "      <td>False</td>\n",
              "      <td>False</td>\n",
              "      <td>False</td>\n",
              "      <td>False</td>\n",
              "      <td>False</td>\n",
              "      <td>False</td>\n",
              "    </tr>\n",
              "    <tr>\n",
              "      <th>2</th>\n",
              "      <td>False</td>\n",
              "      <td>False</td>\n",
              "      <td>False</td>\n",
              "      <td>False</td>\n",
              "      <td>False</td>\n",
              "      <td>False</td>\n",
              "      <td>False</td>\n",
              "      <td>False</td>\n",
              "      <td>False</td>\n",
              "      <td>False</td>\n",
              "      <td>...</td>\n",
              "      <td>False</td>\n",
              "      <td>False</td>\n",
              "      <td>False</td>\n",
              "      <td>False</td>\n",
              "      <td>False</td>\n",
              "      <td>False</td>\n",
              "      <td>False</td>\n",
              "      <td>False</td>\n",
              "      <td>False</td>\n",
              "      <td>False</td>\n",
              "    </tr>\n",
              "    <tr>\n",
              "      <th>3</th>\n",
              "      <td>False</td>\n",
              "      <td>False</td>\n",
              "      <td>False</td>\n",
              "      <td>False</td>\n",
              "      <td>False</td>\n",
              "      <td>False</td>\n",
              "      <td>False</td>\n",
              "      <td>False</td>\n",
              "      <td>False</td>\n",
              "      <td>False</td>\n",
              "      <td>...</td>\n",
              "      <td>False</td>\n",
              "      <td>False</td>\n",
              "      <td>False</td>\n",
              "      <td>False</td>\n",
              "      <td>False</td>\n",
              "      <td>False</td>\n",
              "      <td>False</td>\n",
              "      <td>False</td>\n",
              "      <td>False</td>\n",
              "      <td>False</td>\n",
              "    </tr>\n",
              "    <tr>\n",
              "      <th>4</th>\n",
              "      <td>False</td>\n",
              "      <td>False</td>\n",
              "      <td>False</td>\n",
              "      <td>False</td>\n",
              "      <td>False</td>\n",
              "      <td>False</td>\n",
              "      <td>False</td>\n",
              "      <td>False</td>\n",
              "      <td>False</td>\n",
              "      <td>False</td>\n",
              "      <td>...</td>\n",
              "      <td>False</td>\n",
              "      <td>False</td>\n",
              "      <td>False</td>\n",
              "      <td>False</td>\n",
              "      <td>False</td>\n",
              "      <td>False</td>\n",
              "      <td>False</td>\n",
              "      <td>False</td>\n",
              "      <td>False</td>\n",
              "      <td>False</td>\n",
              "    </tr>\n",
              "    <tr>\n",
              "      <th>...</th>\n",
              "      <td>...</td>\n",
              "      <td>...</td>\n",
              "      <td>...</td>\n",
              "      <td>...</td>\n",
              "      <td>...</td>\n",
              "      <td>...</td>\n",
              "      <td>...</td>\n",
              "      <td>...</td>\n",
              "      <td>...</td>\n",
              "      <td>...</td>\n",
              "      <td>...</td>\n",
              "      <td>...</td>\n",
              "      <td>...</td>\n",
              "      <td>...</td>\n",
              "      <td>...</td>\n",
              "      <td>...</td>\n",
              "      <td>...</td>\n",
              "      <td>...</td>\n",
              "      <td>...</td>\n",
              "      <td>...</td>\n",
              "      <td>...</td>\n",
              "    </tr>\n",
              "    <tr>\n",
              "      <th>466280</th>\n",
              "      <td>False</td>\n",
              "      <td>False</td>\n",
              "      <td>False</td>\n",
              "      <td>False</td>\n",
              "      <td>False</td>\n",
              "      <td>False</td>\n",
              "      <td>False</td>\n",
              "      <td>False</td>\n",
              "      <td>False</td>\n",
              "      <td>False</td>\n",
              "      <td>...</td>\n",
              "      <td>False</td>\n",
              "      <td>False</td>\n",
              "      <td>False</td>\n",
              "      <td>False</td>\n",
              "      <td>False</td>\n",
              "      <td>False</td>\n",
              "      <td>False</td>\n",
              "      <td>False</td>\n",
              "      <td>False</td>\n",
              "      <td>False</td>\n",
              "    </tr>\n",
              "    <tr>\n",
              "      <th>466281</th>\n",
              "      <td>False</td>\n",
              "      <td>False</td>\n",
              "      <td>False</td>\n",
              "      <td>False</td>\n",
              "      <td>False</td>\n",
              "      <td>False</td>\n",
              "      <td>False</td>\n",
              "      <td>False</td>\n",
              "      <td>False</td>\n",
              "      <td>False</td>\n",
              "      <td>...</td>\n",
              "      <td>False</td>\n",
              "      <td>False</td>\n",
              "      <td>False</td>\n",
              "      <td>False</td>\n",
              "      <td>False</td>\n",
              "      <td>False</td>\n",
              "      <td>False</td>\n",
              "      <td>False</td>\n",
              "      <td>False</td>\n",
              "      <td>False</td>\n",
              "    </tr>\n",
              "    <tr>\n",
              "      <th>466282</th>\n",
              "      <td>False</td>\n",
              "      <td>False</td>\n",
              "      <td>False</td>\n",
              "      <td>False</td>\n",
              "      <td>False</td>\n",
              "      <td>False</td>\n",
              "      <td>False</td>\n",
              "      <td>False</td>\n",
              "      <td>False</td>\n",
              "      <td>False</td>\n",
              "      <td>...</td>\n",
              "      <td>False</td>\n",
              "      <td>False</td>\n",
              "      <td>False</td>\n",
              "      <td>False</td>\n",
              "      <td>False</td>\n",
              "      <td>False</td>\n",
              "      <td>False</td>\n",
              "      <td>False</td>\n",
              "      <td>False</td>\n",
              "      <td>False</td>\n",
              "    </tr>\n",
              "    <tr>\n",
              "      <th>466283</th>\n",
              "      <td>False</td>\n",
              "      <td>False</td>\n",
              "      <td>False</td>\n",
              "      <td>False</td>\n",
              "      <td>False</td>\n",
              "      <td>False</td>\n",
              "      <td>False</td>\n",
              "      <td>False</td>\n",
              "      <td>False</td>\n",
              "      <td>False</td>\n",
              "      <td>...</td>\n",
              "      <td>False</td>\n",
              "      <td>False</td>\n",
              "      <td>False</td>\n",
              "      <td>False</td>\n",
              "      <td>False</td>\n",
              "      <td>False</td>\n",
              "      <td>False</td>\n",
              "      <td>False</td>\n",
              "      <td>False</td>\n",
              "      <td>False</td>\n",
              "    </tr>\n",
              "    <tr>\n",
              "      <th>466284</th>\n",
              "      <td>False</td>\n",
              "      <td>False</td>\n",
              "      <td>False</td>\n",
              "      <td>False</td>\n",
              "      <td>False</td>\n",
              "      <td>False</td>\n",
              "      <td>False</td>\n",
              "      <td>False</td>\n",
              "      <td>False</td>\n",
              "      <td>False</td>\n",
              "      <td>...</td>\n",
              "      <td>False</td>\n",
              "      <td>False</td>\n",
              "      <td>False</td>\n",
              "      <td>False</td>\n",
              "      <td>False</td>\n",
              "      <td>False</td>\n",
              "      <td>False</td>\n",
              "      <td>False</td>\n",
              "      <td>False</td>\n",
              "      <td>False</td>\n",
              "    </tr>\n",
              "  </tbody>\n",
              "</table>\n",
              "<p>466285 rows × 206 columns</p>\n",
              "</div>\n",
              "      <button class=\"colab-df-convert\" onclick=\"convertToInteractive('df-9a4bdd5c-a2b5-42cf-9194-f4edcd181e1a')\"\n",
              "              title=\"Convert this dataframe to an interactive table.\"\n",
              "              style=\"display:none;\">\n",
              "        \n",
              "  <svg xmlns=\"http://www.w3.org/2000/svg\" height=\"24px\"viewBox=\"0 0 24 24\"\n",
              "       width=\"24px\">\n",
              "    <path d=\"M0 0h24v24H0V0z\" fill=\"none\"/>\n",
              "    <path d=\"M18.56 5.44l.94 2.06.94-2.06 2.06-.94-2.06-.94-.94-2.06-.94 2.06-2.06.94zm-11 1L8.5 8.5l.94-2.06 2.06-.94-2.06-.94L8.5 2.5l-.94 2.06-2.06.94zm10 10l.94 2.06.94-2.06 2.06-.94-2.06-.94-.94-2.06-.94 2.06-2.06.94z\"/><path d=\"M17.41 7.96l-1.37-1.37c-.4-.4-.92-.59-1.43-.59-.52 0-1.04.2-1.43.59L10.3 9.45l-7.72 7.72c-.78.78-.78 2.05 0 2.83L4 21.41c.39.39.9.59 1.41.59.51 0 1.02-.2 1.41-.59l7.78-7.78 2.81-2.81c.8-.78.8-2.07 0-2.86zM5.41 20L4 18.59l7.72-7.72 1.47 1.35L5.41 20z\"/>\n",
              "  </svg>\n",
              "      </button>\n",
              "      \n",
              "  <style>\n",
              "    .colab-df-container {\n",
              "      display:flex;\n",
              "      flex-wrap:wrap;\n",
              "      gap: 12px;\n",
              "    }\n",
              "\n",
              "    .colab-df-convert {\n",
              "      background-color: #E8F0FE;\n",
              "      border: none;\n",
              "      border-radius: 50%;\n",
              "      cursor: pointer;\n",
              "      display: none;\n",
              "      fill: #1967D2;\n",
              "      height: 32px;\n",
              "      padding: 0 0 0 0;\n",
              "      width: 32px;\n",
              "    }\n",
              "\n",
              "    .colab-df-convert:hover {\n",
              "      background-color: #E2EBFA;\n",
              "      box-shadow: 0px 1px 2px rgba(60, 64, 67, 0.3), 0px 1px 3px 1px rgba(60, 64, 67, 0.15);\n",
              "      fill: #174EA6;\n",
              "    }\n",
              "\n",
              "    [theme=dark] .colab-df-convert {\n",
              "      background-color: #3B4455;\n",
              "      fill: #D2E3FC;\n",
              "    }\n",
              "\n",
              "    [theme=dark] .colab-df-convert:hover {\n",
              "      background-color: #434B5C;\n",
              "      box-shadow: 0px 1px 3px 1px rgba(0, 0, 0, 0.15);\n",
              "      filter: drop-shadow(0px 1px 2px rgba(0, 0, 0, 0.3));\n",
              "      fill: #FFFFFF;\n",
              "    }\n",
              "  </style>\n",
              "\n",
              "      <script>\n",
              "        const buttonEl =\n",
              "          document.querySelector('#df-9a4bdd5c-a2b5-42cf-9194-f4edcd181e1a button.colab-df-convert');\n",
              "        buttonEl.style.display =\n",
              "          google.colab.kernel.accessAllowed ? 'block' : 'none';\n",
              "\n",
              "        async function convertToInteractive(key) {\n",
              "          const element = document.querySelector('#df-9a4bdd5c-a2b5-42cf-9194-f4edcd181e1a');\n",
              "          const dataTable =\n",
              "            await google.colab.kernel.invokeFunction('convertToInteractive',\n",
              "                                                     [key], {});\n",
              "          if (!dataTable) return;\n",
              "\n",
              "          const docLinkHtml = 'Like what you see? Visit the ' +\n",
              "            '<a target=\"_blank\" href=https://colab.research.google.com/notebooks/data_table.ipynb>data table notebook</a>'\n",
              "            + ' to learn more about interactive tables.';\n",
              "          element.innerHTML = '';\n",
              "          dataTable['output_type'] = 'display_data';\n",
              "          await google.colab.output.renderOutput(dataTable, element);\n",
              "          const docLink = document.createElement('div');\n",
              "          docLink.innerHTML = docLinkHtml;\n",
              "          element.appendChild(docLink);\n",
              "        }\n",
              "      </script>\n",
              "    </div>\n",
              "  </div>\n",
              "  "
            ]
          },
          "metadata": {},
          "execution_count": 30
        }
      ],
      "source": [
        "loan_df.isnull()"
      ],
      "id": "vV7mY9TLvZMa"
    },
    {
      "cell_type": "code",
      "execution_count": 31,
      "metadata": {
        "id": "t49pj47YvUG6",
        "colab": {
          "base_uri": "https://localhost:8080/"
        },
        "outputId": "260b5068-5bda-49b3-a37e-3736d64d4492"
      },
      "outputs": [
        {
          "output_type": "execute_result",
          "data": {
            "text/plain": [
              "Unnamed: 0                0\n",
              "id                        0\n",
              "member_id                 0\n",
              "loan_amnt                 0\n",
              "funded_amnt               0\n",
              "                         ..\n",
              "addr_state: WI            0\n",
              "addr_state: WV            0\n",
              "addr_state: WY            0\n",
              "initial_list_status: f    0\n",
              "initial_list_status: w    0\n",
              "Length: 206, dtype: int64"
            ]
          },
          "metadata": {},
          "execution_count": 31
        }
      ],
      "source": [
        "pd.options.display.max_rows = 10\n",
        "loan_df.isnull().sum()"
      ],
      "id": "t49pj47YvUG6"
    },
    {
      "cell_type": "markdown",
      "metadata": {
        "id": "GhYahTjayE33"
      },
      "source": [
        "In this project we need the following variables:\n",
        "- annual_inc\n",
        "- mths_since_earliest_cr_line\n",
        "- acc_now_dilinq\n",
        "- total_acc \n",
        "- pub_rec \n",
        "- open_acc\n",
        "- inq_last_6mths\n",
        "- delinq_2yr\n",
        "- emp_length_int\n",
        "\n",
        "They can't be Null! Thus, annual_inc will be replaced with the mean of the non-missing values. The other variables will be replaced with zero."
      ],
      "id": "GhYahTjayE33"
    },
    {
      "cell_type": "code",
      "execution_count": 32,
      "metadata": {
        "id": "OVfldf-lvwET"
      },
      "outputs": [],
      "source": [
        "loan_df['total_rev_hi_lim'].fillna(loan_df['funded_amnt'], inplace = True)"
      ],
      "id": "OVfldf-lvwET"
    },
    {
      "cell_type": "code",
      "execution_count": 33,
      "metadata": {
        "id": "yW3iOHoIxi0w",
        "colab": {
          "base_uri": "https://localhost:8080/"
        },
        "outputId": "b800c884-6c52-4aab-9838-1adbb604e4fd"
      },
      "outputs": [
        {
          "output_type": "execute_result",
          "data": {
            "text/plain": [
              "0"
            ]
          },
          "metadata": {},
          "execution_count": 33
        }
      ],
      "source": [
        "loan_df['total_rev_hi_lim'].isnull().sum()"
      ],
      "id": "yW3iOHoIxi0w"
    },
    {
      "cell_type": "markdown",
      "metadata": {
        "id": "gS1rY_OkPNH2"
      },
      "source": [
        "annual_inc"
      ],
      "id": "gS1rY_OkPNH2"
    },
    {
      "cell_type": "code",
      "execution_count": 34,
      "metadata": {
        "id": "B3BZjaQfQmmD",
        "colab": {
          "base_uri": "https://localhost:8080/"
        },
        "outputId": "1365a50c-f171-4a13-bf47-e05b8b26f135"
      },
      "outputs": [
        {
          "output_type": "execute_result",
          "data": {
            "text/plain": [
              "42449   NaN\n",
              "42450   NaN\n",
              "42480   NaN\n",
              "42533   NaN\n",
              "Name: annual_inc, dtype: float64"
            ]
          },
          "metadata": {},
          "execution_count": 34
        }
      ],
      "source": [
        "indexNullAnnualInc =  loan_df['annual_inc'][loan_df['annual_inc'].isnull()]\n",
        "indexNullAnnualInc"
      ],
      "id": "B3BZjaQfQmmD"
    },
    {
      "cell_type": "code",
      "execution_count": 35,
      "metadata": {
        "id": "XSaDG5Qwxra1"
      },
      "outputs": [],
      "source": [
        "meanAnnualInc = loan_df['annual_inc'][ loan_df['annual_inc'].notna()].mean()\n",
        "loan_df['annual_inc'].fillna(meanAnnualInc,inplace = True )"
      ],
      "id": "XSaDG5Qwxra1"
    },
    {
      "cell_type": "code",
      "execution_count": 36,
      "metadata": {
        "id": "R7FhG8DEPQ5v",
        "colab": {
          "base_uri": "https://localhost:8080/"
        },
        "outputId": "b9c360b5-2a91-47dc-a11c-16f0a7e625fc"
      },
      "outputs": [
        {
          "output_type": "execute_result",
          "data": {
            "text/plain": [
              "42449    73277.38147\n",
              "42450    73277.38147\n",
              "42480    73277.38147\n",
              "42533    73277.38147\n",
              "Name: annual_inc, dtype: float64"
            ]
          },
          "metadata": {},
          "execution_count": 36
        }
      ],
      "source": [
        "loan_df.loc[[42449,42450, 42480, 42533],'annual_inc']"
      ],
      "id": "R7FhG8DEPQ5v"
    },
    {
      "cell_type": "markdown",
      "metadata": {
        "id": "Kuk3fd0fSOz_"
      },
      "source": [
        "Replacing other variables with missing values"
      ],
      "id": "Kuk3fd0fSOz_"
    },
    {
      "cell_type": "code",
      "execution_count": 37,
      "metadata": {
        "id": "ywUIDpfTSdQO",
        "colab": {
          "base_uri": "https://localhost:8080/"
        },
        "outputId": "72e1089c-4033-4bd6-931d-4951c433002f"
      },
      "outputs": [
        {
          "output_type": "stream",
          "name": "stdout",
          "text": [
            "mths_since_earliest_cr_line\n",
            "Sum of nulls:  29\n",
            "-----------------------------------\n",
            "acc_now_delinq\n",
            "Sum of nulls:  29\n",
            "-----------------------------------\n",
            "total_acc\n",
            "Sum of nulls:  29\n",
            "-----------------------------------\n",
            "pub_rec\n",
            "Sum of nulls:  29\n",
            "-----------------------------------\n",
            "open_acc\n",
            "Sum of nulls:  29\n",
            "-----------------------------------\n",
            "inq_last_6mths\n",
            "Sum of nulls:  29\n",
            "-----------------------------------\n",
            "delinq_2yrs\n",
            "Sum of nulls:  29\n",
            "-----------------------------------\n",
            "emp_lenght_int\n",
            "Sum of nulls:  21008\n",
            "-----------------------------------\n"
          ]
        }
      ],
      "source": [
        "variables = [ 'mths_since_earliest_cr_line'\n",
        "              ,'acc_now_delinq'\n",
        "              ,'total_acc' \n",
        "              ,'pub_rec' \n",
        "              ,'open_acc'\n",
        "              ,'inq_last_6mths'\n",
        "              ,'delinq_2yrs'\n",
        "              ,'emp_lenght_int']\n",
        "for variable in variables:\n",
        "  print(variable)\n",
        "  print('Sum of nulls: ',loan_df[variable].isnull().sum())\n",
        "  loan_df[variable].fillna(0,inplace = True )\n",
        "  print('-----------------------------------')"
      ],
      "id": "ywUIDpfTSdQO"
    },
    {
      "cell_type": "markdown",
      "source": [
        "\n",
        "# Modeling Probability of Default"
      ],
      "metadata": {
        "id": "0fma1w0Rh8sg"
      },
      "id": "0fma1w0Rh8sg"
    },
    {
      "cell_type": "markdown",
      "source": [
        "### Target"
      ],
      "metadata": {
        "id": "ScfkV1dykxQk"
      },
      "id": "ScfkV1dykxQk"
    },
    {
      "cell_type": "code",
      "source": [
        "loan_df['loan_status'].unique()"
      ],
      "metadata": {
        "colab": {
          "base_uri": "https://localhost:8080/"
        },
        "id": "oFLBTjjZiCxQ",
        "outputId": "c02124ee-3284-44aa-918a-bcfffd15e969"
      },
      "id": "oFLBTjjZiCxQ",
      "execution_count": 38,
      "outputs": [
        {
          "output_type": "execute_result",
          "data": {
            "text/plain": [
              "array(['Fully Paid', 'Charged Off', 'Current', 'Default',\n",
              "       'Late (31-120 days)', 'In Grace Period', 'Late (16-30 days)',\n",
              "       'Does not meet the credit policy. Status:Fully Paid',\n",
              "       'Does not meet the credit policy. Status:Charged Off'],\n",
              "      dtype=object)"
            ]
          },
          "metadata": {},
          "execution_count": 38
        }
      ]
    },
    {
      "cell_type": "code",
      "source": [
        "loan_df['loan_status'].value_counts()"
      ],
      "metadata": {
        "colab": {
          "base_uri": "https://localhost:8080/"
        },
        "id": "Tkg59Jr6iMtU",
        "outputId": "ae417b7c-2ba6-4eb9-d1c0-6b47d242fb6a"
      },
      "id": "Tkg59Jr6iMtU",
      "execution_count": 39,
      "outputs": [
        {
          "output_type": "execute_result",
          "data": {
            "text/plain": [
              "Current                                                224226\n",
              "Fully Paid                                             184739\n",
              "Charged Off                                             42475\n",
              "Late (31-120 days)                                       6900\n",
              "In Grace Period                                          3146\n",
              "Does not meet the credit policy. Status:Fully Paid       1988\n",
              "Late (16-30 days)                                        1218\n",
              "Default                                                   832\n",
              "Does not meet the credit policy. Status:Charged Off       761\n",
              "Name: loan_status, dtype: int64"
            ]
          },
          "metadata": {},
          "execution_count": 39
        }
      ]
    },
    {
      "cell_type": "code",
      "source": [
        "#good = 1\n",
        "#bad = 0\n",
        "loan_df['good_bad'] = np.where(loan_df['loan_status'].isin(['Charged Off', 'Late (31-120 days)', 'Default',\n",
        "                                                            'Does not meet the credit policy. Status:Charged Off']), 0, 1)\n",
        "loan_df['good_bad']"
      ],
      "metadata": {
        "colab": {
          "base_uri": "https://localhost:8080/"
        },
        "id": "Zlsar_6rjFSB",
        "outputId": "f53c5f9c-5024-4b28-9efb-efc272eea341"
      },
      "id": "Zlsar_6rjFSB",
      "execution_count": 40,
      "outputs": [
        {
          "output_type": "execute_result",
          "data": {
            "text/plain": [
              "0         1\n",
              "1         0\n",
              "2         1\n",
              "3         1\n",
              "4         1\n",
              "         ..\n",
              "466280    1\n",
              "466281    0\n",
              "466282    1\n",
              "466283    1\n",
              "466284    1\n",
              "Name: good_bad, Length: 466285, dtype: int64"
            ]
          },
          "metadata": {},
          "execution_count": 40
        }
      ]
    },
    {
      "cell_type": "markdown",
      "source": [
        "##Splitting data"
      ],
      "metadata": {
        "id": "crQt30CH0jbh"
      },
      "id": "crQt30CH0jbh"
    },
    {
      "cell_type": "code",
      "source": [
        "from sklearn.model_selection import train_test_split"
      ],
      "metadata": {
        "id": "mFUz179R0teS"
      },
      "id": "mFUz179R0teS",
      "execution_count": 41,
      "outputs": []
    },
    {
      "cell_type": "code",
      "source": [
        "loan_df_X_train, loan_df_X_test, loan_df_y_train, loan_df_y_test = train_test_split(loan_df.drop('good_bad',axis=1),loan_df['good_bad'],test_size = 0.2 , random_state=42)"
      ],
      "metadata": {
        "id": "sqzEyZHr1ECQ"
      },
      "id": "sqzEyZHr1ECQ",
      "execution_count": 42,
      "outputs": []
    },
    {
      "cell_type": "code",
      "source": [
        "print(loan_df_X_train.shape)\n",
        "print(loan_df_X_test.shape)\n",
        "print(loan_df_y_train.shape)\n",
        "print(loan_df_y_test.shape)"
      ],
      "metadata": {
        "colab": {
          "base_uri": "https://localhost:8080/"
        },
        "id": "B5YwA0Jw1t-2",
        "outputId": "65f592b0-398a-4dd1-ab04-1d954842df00"
      },
      "id": "B5YwA0Jw1t-2",
      "execution_count": 43,
      "outputs": [
        {
          "output_type": "stream",
          "name": "stdout",
          "text": [
            "(373028, 206)\n",
            "(93257, 206)\n",
            "(373028,)\n",
            "(93257,)\n"
          ]
        }
      ]
    },
    {
      "cell_type": "markdown",
      "source": [
        "##independent variables"
      ],
      "metadata": {
        "id": "E6_8rv1lr7GM"
      },
      "id": "E6_8rv1lr7GM"
    },
    {
      "cell_type": "markdown",
      "source": [
        "###Splitting continous variables into categories\n",
        "- Fine classing\n",
        "- using **Weight of Evidence (WoE)** - how much evidence does the independent variable have with respect to differences in the dependent variable.\n",
        "\n",
        "\n",
        "\\begin{align}\n",
        "WoE = ln(\\frac{\\% good}{\\% bad}).\n",
        "\\end{align}\n",
        "\n",
        "- and then **Coarse classing** to construct new categories based on the initial ones\n",
        "\n",
        "\n",
        "\n"
      ],
      "metadata": {
        "id": "IMqqLIHurz2M"
      },
      "id": "IMqqLIHurz2M"
    },
    {
      "cell_type": "markdown",
      "source": [
        "### Information value\n",
        "\n",
        "to select de variables that are more relevant to predict the target"
      ],
      "metadata": {
        "id": "p3H_i2G0wczi"
      },
      "id": "p3H_i2G0wczi"
    },
    {
      "cell_type": "code",
      "source": [],
      "metadata": {
        "id": "cqp1e8i4yueK"
      },
      "id": "cqp1e8i4yueK",
      "execution_count": 43,
      "outputs": []
    },
    {
      "cell_type": "markdown",
      "source": [
        "###Preprocessing discrete variables: Automating Calculations"
      ],
      "metadata": {
        "id": "PeT4A5Oe-vgc"
      },
      "id": "PeT4A5Oe-vgc"
    },
    {
      "cell_type": "code",
      "source": [
        "def woe_discrete(df,discrete_variable_name,good_bad_variable):\n",
        "  df = pd.concat([df[discrete_variable_name],good_bad_variable],axis = 1)\n",
        "  df = pd.concat([df.groupby(df.columns[0], as_index = False)[df.columns.values[1]].count(),\n",
        "                  df.groupby(df.columns[0], as_index = False)[df.columns.values[1]].mean()], axis = 1)\n",
        "  df = df.iloc[:,[0,1,3]]\n",
        "  df.columns = [df.columns.values[0],'n_obs', 'prop_good']\n",
        "  df['prop_n_obs'] = df['n_obs']/df['n_obs'].sum()\n",
        "  df['n_good'] = df['prop_good']*df['n_obs']\n",
        "  df['n_bad'] = (1-df['prop_good'])*df['n_obs']\n",
        "  df['prop_n_good'] = df['n_good']/df['n_good'].sum()\n",
        "  df['prop_n_bad'] = df['n_bad']/df['n_bad'].sum()\n",
        "  df['WoE'] = np.log(df['prop_n_good']/df['prop_n_bad'])\n",
        "  df = df.sort_values(['WoE'])\n",
        "  df = df.reset_index(drop = True)\n",
        "  df['diff_prop_good'] = df['prop_good'].diff().abs()\n",
        "  df['diff_WoE'] = df['WoE'].diff().abs()\n",
        "  df['IV'] = (df['prop_n_good']-df['prop_n_bad'])*df['WoE']\n",
        "  df['IV'] = df['IV'].sum()\n",
        "  return df"
      ],
      "metadata": {
        "id": "9DSM-xFF-u_H"
      },
      "id": "9DSM-xFF-u_H",
      "execution_count": 51,
      "outputs": []
    },
    {
      "cell_type": "code",
      "source": [
        "df_temp = woe_discrete(loan_df_X_train,'grade',loan_df_y_train)"
      ],
      "metadata": {
        "id": "Zojkz213O4LI"
      },
      "id": "Zojkz213O4LI",
      "execution_count": 52,
      "outputs": []
    },
    {
      "cell_type": "code",
      "source": [
        "df_temp"
      ],
      "metadata": {
        "colab": {
          "base_uri": "https://localhost:8080/",
          "height": 269
        },
        "id": "B5ogzkZe-5cv",
        "outputId": "b90dfb3d-a8f2-45cc-9a75-da3bdb9917b4"
      },
      "id": "B5ogzkZe-5cv",
      "execution_count": 53,
      "outputs": [
        {
          "output_type": "execute_result",
          "data": {
            "text/plain": [
              "  grade   n_obs  prop_good  prop_n_obs    n_good    n_bad  prop_n_good  \\\n",
              "0     G    2654   0.727958    0.007115    1932.0    722.0     0.005815   \n",
              "1     F   10530   0.754416    0.028228    7944.0   2586.0     0.023910   \n",
              "2     E   28612   0.805257    0.076702   23040.0   5572.0     0.069345   \n",
              "3     D   61498   0.846304    0.164862   52046.0   9452.0     0.156647   \n",
              "4     C  100245   0.885770    0.268733   88794.0  11451.0     0.267251   \n",
              "5     B  109730   0.921015    0.294160  101063.0   8667.0     0.304178   \n",
              "6     A   59759   0.961044    0.160200   57431.0   2328.0     0.172855   \n",
              "\n",
              "   prop_n_bad       WoE  diff_prop_good  diff_WoE        IV  \n",
              "0    0.017706 -1.113459             NaN       NaN  0.288636  \n",
              "1    0.063417 -0.975440        0.026458  0.138019  0.288636  \n",
              "2    0.136642 -0.678267        0.050841  0.297173  0.288636  \n",
              "3    0.231792 -0.391843        0.041047  0.286424  0.288636  \n",
              "4    0.280813 -0.049503        0.039466  0.342340  0.288636  \n",
              "5    0.212541  0.358476        0.035245  0.407979  0.288636  \n",
              "6    0.057090  1.107830        0.040028  0.749353  0.288636  "
            ],
            "text/html": [
              "\n",
              "  <div id=\"df-07f4c225-1dd6-4f99-85dc-e2c0b5b9146e\">\n",
              "    <div class=\"colab-df-container\">\n",
              "      <div>\n",
              "<style scoped>\n",
              "    .dataframe tbody tr th:only-of-type {\n",
              "        vertical-align: middle;\n",
              "    }\n",
              "\n",
              "    .dataframe tbody tr th {\n",
              "        vertical-align: top;\n",
              "    }\n",
              "\n",
              "    .dataframe thead th {\n",
              "        text-align: right;\n",
              "    }\n",
              "</style>\n",
              "<table border=\"1\" class=\"dataframe\">\n",
              "  <thead>\n",
              "    <tr style=\"text-align: right;\">\n",
              "      <th></th>\n",
              "      <th>grade</th>\n",
              "      <th>n_obs</th>\n",
              "      <th>prop_good</th>\n",
              "      <th>prop_n_obs</th>\n",
              "      <th>n_good</th>\n",
              "      <th>n_bad</th>\n",
              "      <th>prop_n_good</th>\n",
              "      <th>prop_n_bad</th>\n",
              "      <th>WoE</th>\n",
              "      <th>diff_prop_good</th>\n",
              "      <th>diff_WoE</th>\n",
              "      <th>IV</th>\n",
              "    </tr>\n",
              "  </thead>\n",
              "  <tbody>\n",
              "    <tr>\n",
              "      <th>0</th>\n",
              "      <td>G</td>\n",
              "      <td>2654</td>\n",
              "      <td>0.727958</td>\n",
              "      <td>0.007115</td>\n",
              "      <td>1932.0</td>\n",
              "      <td>722.0</td>\n",
              "      <td>0.005815</td>\n",
              "      <td>0.017706</td>\n",
              "      <td>-1.113459</td>\n",
              "      <td>NaN</td>\n",
              "      <td>NaN</td>\n",
              "      <td>0.288636</td>\n",
              "    </tr>\n",
              "    <tr>\n",
              "      <th>1</th>\n",
              "      <td>F</td>\n",
              "      <td>10530</td>\n",
              "      <td>0.754416</td>\n",
              "      <td>0.028228</td>\n",
              "      <td>7944.0</td>\n",
              "      <td>2586.0</td>\n",
              "      <td>0.023910</td>\n",
              "      <td>0.063417</td>\n",
              "      <td>-0.975440</td>\n",
              "      <td>0.026458</td>\n",
              "      <td>0.138019</td>\n",
              "      <td>0.288636</td>\n",
              "    </tr>\n",
              "    <tr>\n",
              "      <th>2</th>\n",
              "      <td>E</td>\n",
              "      <td>28612</td>\n",
              "      <td>0.805257</td>\n",
              "      <td>0.076702</td>\n",
              "      <td>23040.0</td>\n",
              "      <td>5572.0</td>\n",
              "      <td>0.069345</td>\n",
              "      <td>0.136642</td>\n",
              "      <td>-0.678267</td>\n",
              "      <td>0.050841</td>\n",
              "      <td>0.297173</td>\n",
              "      <td>0.288636</td>\n",
              "    </tr>\n",
              "    <tr>\n",
              "      <th>3</th>\n",
              "      <td>D</td>\n",
              "      <td>61498</td>\n",
              "      <td>0.846304</td>\n",
              "      <td>0.164862</td>\n",
              "      <td>52046.0</td>\n",
              "      <td>9452.0</td>\n",
              "      <td>0.156647</td>\n",
              "      <td>0.231792</td>\n",
              "      <td>-0.391843</td>\n",
              "      <td>0.041047</td>\n",
              "      <td>0.286424</td>\n",
              "      <td>0.288636</td>\n",
              "    </tr>\n",
              "    <tr>\n",
              "      <th>4</th>\n",
              "      <td>C</td>\n",
              "      <td>100245</td>\n",
              "      <td>0.885770</td>\n",
              "      <td>0.268733</td>\n",
              "      <td>88794.0</td>\n",
              "      <td>11451.0</td>\n",
              "      <td>0.267251</td>\n",
              "      <td>0.280813</td>\n",
              "      <td>-0.049503</td>\n",
              "      <td>0.039466</td>\n",
              "      <td>0.342340</td>\n",
              "      <td>0.288636</td>\n",
              "    </tr>\n",
              "    <tr>\n",
              "      <th>5</th>\n",
              "      <td>B</td>\n",
              "      <td>109730</td>\n",
              "      <td>0.921015</td>\n",
              "      <td>0.294160</td>\n",
              "      <td>101063.0</td>\n",
              "      <td>8667.0</td>\n",
              "      <td>0.304178</td>\n",
              "      <td>0.212541</td>\n",
              "      <td>0.358476</td>\n",
              "      <td>0.035245</td>\n",
              "      <td>0.407979</td>\n",
              "      <td>0.288636</td>\n",
              "    </tr>\n",
              "    <tr>\n",
              "      <th>6</th>\n",
              "      <td>A</td>\n",
              "      <td>59759</td>\n",
              "      <td>0.961044</td>\n",
              "      <td>0.160200</td>\n",
              "      <td>57431.0</td>\n",
              "      <td>2328.0</td>\n",
              "      <td>0.172855</td>\n",
              "      <td>0.057090</td>\n",
              "      <td>1.107830</td>\n",
              "      <td>0.040028</td>\n",
              "      <td>0.749353</td>\n",
              "      <td>0.288636</td>\n",
              "    </tr>\n",
              "  </tbody>\n",
              "</table>\n",
              "</div>\n",
              "      <button class=\"colab-df-convert\" onclick=\"convertToInteractive('df-07f4c225-1dd6-4f99-85dc-e2c0b5b9146e')\"\n",
              "              title=\"Convert this dataframe to an interactive table.\"\n",
              "              style=\"display:none;\">\n",
              "        \n",
              "  <svg xmlns=\"http://www.w3.org/2000/svg\" height=\"24px\"viewBox=\"0 0 24 24\"\n",
              "       width=\"24px\">\n",
              "    <path d=\"M0 0h24v24H0V0z\" fill=\"none\"/>\n",
              "    <path d=\"M18.56 5.44l.94 2.06.94-2.06 2.06-.94-2.06-.94-.94-2.06-.94 2.06-2.06.94zm-11 1L8.5 8.5l.94-2.06 2.06-.94-2.06-.94L8.5 2.5l-.94 2.06-2.06.94zm10 10l.94 2.06.94-2.06 2.06-.94-2.06-.94-.94-2.06-.94 2.06-2.06.94z\"/><path d=\"M17.41 7.96l-1.37-1.37c-.4-.4-.92-.59-1.43-.59-.52 0-1.04.2-1.43.59L10.3 9.45l-7.72 7.72c-.78.78-.78 2.05 0 2.83L4 21.41c.39.39.9.59 1.41.59.51 0 1.02-.2 1.41-.59l7.78-7.78 2.81-2.81c.8-.78.8-2.07 0-2.86zM5.41 20L4 18.59l7.72-7.72 1.47 1.35L5.41 20z\"/>\n",
              "  </svg>\n",
              "      </button>\n",
              "      \n",
              "  <style>\n",
              "    .colab-df-container {\n",
              "      display:flex;\n",
              "      flex-wrap:wrap;\n",
              "      gap: 12px;\n",
              "    }\n",
              "\n",
              "    .colab-df-convert {\n",
              "      background-color: #E8F0FE;\n",
              "      border: none;\n",
              "      border-radius: 50%;\n",
              "      cursor: pointer;\n",
              "      display: none;\n",
              "      fill: #1967D2;\n",
              "      height: 32px;\n",
              "      padding: 0 0 0 0;\n",
              "      width: 32px;\n",
              "    }\n",
              "\n",
              "    .colab-df-convert:hover {\n",
              "      background-color: #E2EBFA;\n",
              "      box-shadow: 0px 1px 2px rgba(60, 64, 67, 0.3), 0px 1px 3px 1px rgba(60, 64, 67, 0.15);\n",
              "      fill: #174EA6;\n",
              "    }\n",
              "\n",
              "    [theme=dark] .colab-df-convert {\n",
              "      background-color: #3B4455;\n",
              "      fill: #D2E3FC;\n",
              "    }\n",
              "\n",
              "    [theme=dark] .colab-df-convert:hover {\n",
              "      background-color: #434B5C;\n",
              "      box-shadow: 0px 1px 3px 1px rgba(0, 0, 0, 0.15);\n",
              "      filter: drop-shadow(0px 1px 2px rgba(0, 0, 0, 0.3));\n",
              "      fill: #FFFFFF;\n",
              "    }\n",
              "  </style>\n",
              "\n",
              "      <script>\n",
              "        const buttonEl =\n",
              "          document.querySelector('#df-07f4c225-1dd6-4f99-85dc-e2c0b5b9146e button.colab-df-convert');\n",
              "        buttonEl.style.display =\n",
              "          google.colab.kernel.accessAllowed ? 'block' : 'none';\n",
              "\n",
              "        async function convertToInteractive(key) {\n",
              "          const element = document.querySelector('#df-07f4c225-1dd6-4f99-85dc-e2c0b5b9146e');\n",
              "          const dataTable =\n",
              "            await google.colab.kernel.invokeFunction('convertToInteractive',\n",
              "                                                     [key], {});\n",
              "          if (!dataTable) return;\n",
              "\n",
              "          const docLinkHtml = 'Like what you see? Visit the ' +\n",
              "            '<a target=\"_blank\" href=https://colab.research.google.com/notebooks/data_table.ipynb>data table notebook</a>'\n",
              "            + ' to learn more about interactive tables.';\n",
              "          element.innerHTML = '';\n",
              "          dataTable['output_type'] = 'display_data';\n",
              "          await google.colab.output.renderOutput(dataTable, element);\n",
              "          const docLink = document.createElement('div');\n",
              "          docLink.innerHTML = docLinkHtml;\n",
              "          element.appendChild(docLink);\n",
              "        }\n",
              "      </script>\n",
              "    </div>\n",
              "  </div>\n",
              "  "
            ]
          },
          "metadata": {},
          "execution_count": 53
        }
      ]
    },
    {
      "cell_type": "code",
      "source": [
        "import matplotlib.pyplot as plt\n",
        "import seaborn as sns\n",
        "sns.set()"
      ],
      "metadata": {
        "id": "2ZAbiNU7SU7m"
      },
      "id": "2ZAbiNU7SU7m",
      "execution_count": 55,
      "outputs": []
    },
    {
      "cell_type": "code",
      "source": [
        "def plot_by_woe(df_WoE, rotation_of_x = 0):\n",
        "  x = np.array(df_WoE.iloc[:,0].apply(str))\n",
        "  y = df_WoE['WoE']\n",
        "  plt.figure(figsize=(18,6))\n",
        "  plt.plot(x,y,marker ='o',linestyle = '--', color = 'k')\n",
        "  plt.xlabel(df_WoE.columns[0])\n",
        "  plt.ylabel( 'Weight Of Evidence')\n",
        "  plt.title(str('Weight Of Evidence by ' + df_WoE.columns[0]))\n",
        "  plt.xticks(rotation = rotation_of_x)"
      ],
      "metadata": {
        "id": "pciGQHCBSeQH"
      },
      "id": "pciGQHCBSeQH",
      "execution_count": 65,
      "outputs": []
    },
    {
      "cell_type": "code",
      "source": [
        "plot_by_woe(df_temp)"
      ],
      "metadata": {
        "colab": {
          "base_uri": "https://localhost:8080/",
          "height": 573
        },
        "id": "0T-G9PdKUio5",
        "outputId": "3e625b30-d21e-4c91-9d0e-8a0987411bc4"
      },
      "id": "0T-G9PdKUio5",
      "execution_count": 66,
      "outputs": [
        {
          "output_type": "display_data",
          "data": {
            "text/plain": [
              "<Figure size 1800x600 with 1 Axes>"
            ],
            "image/png": "[encoded data removed]"
          },
          "metadata": {}
        }
      ]
    }
  ],
  "metadata": {
    "colab": {
      "provenance": [],
      "include_colab_link": true
    },
    "kernelspec": {
      "display_name": "Python 3 (ipykernel)",
      "language": "python",
      "name": "python3"
    },
    "language_info": {
      "codemirror_mode": {
        "name": "ipython",
        "version": 3
      },
      "file_extension": ".py",
      "mimetype": "text/x-python",
      "name": "python",
      "nbconvert_exporter": "python",
      "pygments_lexer": "ipython3",
      "version": "3.9.7"
    }
  },
  "nbformat": 4,
  "nbformat_minor": 5
}